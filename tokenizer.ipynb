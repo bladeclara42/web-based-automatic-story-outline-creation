{
 "cells": [
  {
   "cell_type": "code",
   "execution_count": 4,
   "metadata": {},
   "outputs": [
    {
     "name": "stderr",
     "output_type": "stream",
     "text": [
      "Downloading: 100%|██████████| 28.0/28.0 [00:00<00:00, 14.0kB/s]\n",
      "Downloading: 100%|██████████| 570/570 [00:00<00:00, 574kB/s]\n",
      "Downloading: 100%|██████████| 232k/232k [00:00<00:00, 2.39MB/s]\n",
      "Downloading: 100%|██████████| 466k/466k [00:00<00:00, 604kB/s] \n"
     ]
    },
    {
     "name": "stdout",
     "output_type": "stream",
     "text": [
      "Before\n",
      "['[UNK]', '[SEP]', '[PAD]', '[CLS]', '[MASK]']\n",
      "[100, 102, 0, 101, 103]\n",
      "After\n",
      "['[UNK]', '[SEP]', '[PAD]', '[CLS]', '[MASK]', '[EOT]']\n",
      "[100, 102, 0, 101, 103, 30522]\n"
     ]
    }
   ],
   "source": [
    "from transformers import AutoTokenizer, AutoModelForSequenceClassification\n",
    "tokenizer = AutoTokenizer.from_pretrained(\"bert-base-uncased\")\n",
    "\n",
    "print(\"Before\")\n",
    "print(tokenizer.all_special_tokens) # --> ['[UNK]', '[SEP]', '[PAD]', '[CLS]', '[MASK]']\n",
    "print(tokenizer.all_special_ids)    # --> [100, 102, 0, 101, 103]\n",
    "\n",
    "\n",
    "special_tokens_dict = {'additional_special_tokens': ['[EOT]', '[SEP]', '[PAD]', '[CLS]', '[MASK]']}\n",
    "num_added_toks = tokenizer.add_special_tokens(special_tokens_dict)\n",
    "# model.resize_token_embeddings(len(tokenizer))  # --> Embedding(30523, 768)\n",
    "\n",
    "tok_id = tokenizer.convert_tokens_to_ids('[EOT]')  # --> 30522\n",
    "\n",
    "print(\"After\")\n",
    "print(tokenizer.all_special_tokens) # --> ['[UNK]', '[SEP]', '[PAD]', '[CLS]', '[MASK]']\n",
    "print(tokenizer.all_special_ids)    # --> [100, 102, 0, 101, 103]"
   ]
  },
  {
   "cell_type": "code",
   "execution_count": 1,
   "metadata": {},
   "outputs": [],
   "source": [
    "from torch.utils.tensorboard import SummaryWriter"
   ]
  }
 ],
 "metadata": {
  "kernelspec": {
   "display_name": "Transformers-310",
   "language": "python",
   "name": "python3"
  },
  "language_info": {
   "codemirror_mode": {
    "name": "ipython",
    "version": 3
   },
   "file_extension": ".py",
   "mimetype": "text/x-python",
   "name": "python",
   "nbconvert_exporter": "python",
   "pygments_lexer": "ipython3",
   "version": "3.10.11"
  }
 },
 "nbformat": 4,
 "nbformat_minor": 2
}
