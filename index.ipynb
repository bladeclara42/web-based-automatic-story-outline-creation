{
 "cells": [
  {
   "cell_type": "code",
   "execution_count": 1,
   "metadata": {},
   "outputs": [
    {
     "name": "stdout",
     "output_type": "stream",
     "text": [
      "[{\"pendahuluan\": \"Subaru memikirkan konsep keabadian, sebuah gagasan yang sering muncul dalam dunia dongeng. Namun, Subaru ingin menertawakan ambisi keabadian sebagai sesuatu yang konyol, meskipun merinding ketika mendengar tentang eksperimen Penyihir Keserakahan yang jauh dari sekadar khayalan semata.\", \"klimaks\": \"Subaru menyadari bahwa keabadian bukanlah sesuatu yang bisa diabaikan begitu saja. Echidona memiliki kemampuan untuk menciptakan keabadian dan Subaru bertekad untuk menghadapi ambisi sang penyihir untuk mencegahnya menciptakan keabadian.\", \"solusi\": \"Subaru berusaha mencari informasi dan sumber daya yang dibutuhkan untuk menghadapi Echidona. Dia belajar lebih dalam tentang makna keabadian dan konsekuensinya bagi kehidupan. Akhirnya, Subaru berhasil menghadapi Echidona dan mencegahnya menciptakan keabadian.\"}, {\"pendahuluan\": \"Seorang pangeran muda, Aiden, hidup dalam kerajaan yang dikepung oleh musuh bebuyutan mereka, Kerajaan Gelap. Aiden memiliki kekuatan sihir yang hebat yang dia warisi dari ayahnya, seorang penyihir terkenal yang telah meninggal. Namun, Aiden belum mampu mengendalikan kekuatannya dan sering kali membawa bencana.\", \"klimaks\": \"Ketika pasukan Kerajaan Gelap menyerang, Aiden berusaha untuk menggunakan kekuatannya untuk membantu mempertahankan kerajaannya. Namun, kekuatannya malah melampaui kendalinya dan menciptakan ledakan besar yang hampir menghancurkan kerajaan sendiri. Diusir dari kerajaan, Aiden merasa putus asa dan takut akan kekuatannya sendiri.\", \"solusi\": \"Aiden bertemu dengan seorang penyihir tua yang memperkenalkannya pada sebuah klan penyihir yang terkenal dan mampu mengendalikan kekuatan sihir mereka. Aiden bergabung dengan klan tersebut dan belajar untuk mengendalikan kekuatannya. Dia menemukan teman dan mentor dalam proses itu dan merasa lebih percaya diri dengan kemampuannya. Ketika Kerajaan Gelap menyerang kembali, Aiden kembali ke kerajaannya dengan kekuatan yang telah didapatkan dari penyihir tua.\"}, {\"pendahuluan\": \"Sinta adalah seorang penyihir muda yang sangat berbakat dan sedang belajar ilmu sihir di Akademi Sihir Elvandor. Ia tinggal di asrama bersama teman-temannya, termasuk sahabat karibnya, seorang peri bernama Lila. Sinta selalu bersemangat dalam mengembangkan kemampuannya, meskipun terkadang ia merasa sedikit kesepian karena keluarganya tinggal jauh dari akademi.\", \"klimaks\": \"Suatu hari, sebuah kekuatan jahat muncul dan menyerang akademi, mengancam keberadaan Sinta, Lila, dan teman-temannya. Kekuatan jahat ini dipimpin oleh seorang penyihir jahat yang pernah diusir dari akademi karena melakukan praktik sihir hitam. Sinta dan teman-temannya merasa sangat terancam oleh kekuatan jahat ini, dan merasa kesulitan untuk melawan mereka karena kekuatan sihir mereka masih belum cukup kuat.\", \"solusi\": \"Sinta dan teman-temannya kemudian memutuskan untuk melakukan perjalanan ke sebuah tempat yang sangat terpencil untuk menemukan seorang penyihir tua yang dikenal sebagai Guru Besar. Guru Besar ini dikenal sebagai ahli sihir yang sangat kuat, dan mungkin satu-satunya orang yang dapat membantu mereka mengalahkan kekuatan jahat yang menyerang akademi. Sinta dan teman-temannya harus melewati banyak rintangan dan bahaya di sepanjang perjalanan mereka, termasuk pertarungan dengan makhluk-makhluk buas dan jebakan-jebakan yang dipasang oleh musuh mereka. \"}, {\"pendahuluan\": \"Di dunia magis, seorang putri bernama Elara yang diberikan kekuatan oleh seorang penyihir untuk melindungi kerajaannya dari ancaman iblis. Namun, ketika dia mencapai usia dewasa, penyihir itu menghilang dan kekuatannya mulai pudar.\", \"klimaks\": \"Ketika kerajaannya diserang oleh pasukan iblis yang dipimpin oleh raja iblis yang ganas, Elara berusaha melindungi kerajaannya, namun dia tidak memiliki kekuatan yang cukup untuk mengalahkan mereka. Putri itu kemudian berusaha mencari penyihir yang memberinya kekuatan dahulu untuk membantunya memperoleh kembali kekuatannya.\", \"solusi\": \"Elara memulai perjalanan panjang untuk menemukan penyihir itu, dia harus melewati berbagai rintangan dan menghadapi bahaya yang menakutkan di dunia magis. Dia bertemu dengan berbagai karakter termasuk peri, naga, dan ksatria yang membantunya dalam pencariannya. Setelah melalui perjalanan yang sulit, Elara akhirnya menemukan penyihir itu dan memperoleh kekuatannya kembali. \"}, {\"pendahuluan\": \"Seorang putri muda yang bernama Luna hidup dalam sebuah kerajaan besar yang dipimpin oleh raja dan ratu. Luna adalah putri yang cerdas, berbakat, dan memiliki kekuatan magis yang luar biasa. Namun, Luna memiliki rahasia yang dia sembunyikan dari orang lain, yaitu dia adalah keturunan dari ras peri yang dipercayai telah punah.\", \"klimaks\": \"Suatu hari, Luna menemukan bahwa sebuah kutukan kuat telah menimpa kerajaannya dan mengancam untuk menghancurkannya. Luna menyadari bahwa hanya kekuatannya sebagai peri yang dapat menyelamatkan kerajaannya dan rakyatnya. Namun, dia tahu bahwa jika dia mengungkapkan identitasnya sebagai peri, dia akan dianggap sebagai pengkhianat dan dihukum mati.\", \"solusi\": \"Luna harus memutuskan antara melindungi identitasnya sebagai peri dan menyelamatkan kerajaannya atau mengorbankan dirinya sendiri demi menjaga rahasianya. Luna memutuskan untuk menggunakan kekuatan magisnya dan merencanakan strategi dengan hati-hati untuk mengalahkan kutukan dan menyelamatkan kerajaannya. Dalam perjalanan ini, Luna menemukan kekuatan baru dan belajar bahwa dia dapat menggabungkan kekuatannya sebagai peri dan putri untuk menjadi pahlawan sejati dan menyelamatkan kerajaannya dari kehancuran.\"}, {\"pendahuluan\": \"Sinta adalah seorang gadis desa yang tumbuh di pedesaan. Dia bercita-cita untuk mengejar mimpinya di kota besar dan akhirnya pindah ke sana setelah lulus SMA. Namun, ia merasa kesulitan untuk beradaptasi dengan kehidupan di kota dan sering merasa terasing.\", \"klimaks\": \"Sinta berjuang untuk menemukan pekerjaan dan teman-teman di kota besar. Dia merasa sulit untuk berbaur dengan orang-orang yang berbeda latar belakang dan budaya. Ia sering kali merasa kesepian dan frustasi, bahkan terkadang ingin kembali ke desa.\", \"solusi\": \"Sinta bertekad untuk tetap tinggal di kota besar dan mengejar mimpinya. Dia memutuskan untuk mengikuti kursus bahasa Inggris dan mengikuti kegiatan sosial untuk bertemu dengan orang baru dan memperluas jaringan sosialnya. Meskipun kesulitan dan rintangan terus muncul, Sinta berusaha untuk tidak menyerah dan tetap melangkah maju untuk mencapai tujuannya.\"}, {\"pendahuluan\": \"Seorang remaja bernama Maya yang baru saja pindah ke sebuah kota kecil dengan ibunya setelah orang tuanya bercerai. Maya sedang mencoba menyesuaikan diri dengan lingkungan baru dan mencari teman baru di sekolah barunya.\", \"klimaks\": \"Maya terus-menerus merasa kesepian dan sulit untuk berteman di sekolah barunya. Selain itu, ia juga mengalami beberapa kejadian aneh di rumah barunya, seperti suara-suara aneh dan benda-benda yang bergerak sendiri. Maya mulai merasa takut dan terancam di rumah barunya.\", \"solusi\": \"Maya memutuskan untuk menyelidiki kejadian aneh di rumah barunya. Dengan bantuan internet, Maya menemukan bahwa rumahnya dulu adalah tempat kejadian pembunuhan misterius. Maya mulai menyadari bahwa ia tidak sendirian dan sedang dihantui oleh roh-roh jahat yang masih berkeliaran di dalam rumah. Maya mulai mencari cara untuk mengusir roh-roh jahat dan mengungkap kebenaran di balik pembunuhan tersebut.\"}, {\"pendahuluan\": \"Di sebuah kota kecil, ada seorang gadis bernama Maya yang sangat menyukai petualangan. Dia selalu ingin menjelajahi tempat-tempat baru dan mencari pengalaman yang menarik. Meskipun Maya adalah seorang siswa yang rajin, dia seringkali merasa bosan dengan kehidupannya yang monoton di kota kecil itu.\", \"klimaks\": \"Suatu hari, Maya mendengar kabar tentang sebuah hutan yang dianggap misterius dan penuh dengan bahaya. Dia sangat penasaran dan memutuskan untuk mencari tahu lebih banyak tentang hutan itu. Namun, ketika dia tiba di hutan itu, dia terjebak dalam jebakan yang diletakkan oleh sekelompok penjahat yang tinggal di hutan itu. Maya merasa sangat ketakutan dan terjebak dalam hutan itu tanpa ada jalan keluar.\", \"solusi\": \"Maya berjuang untuk bertahan hidup di hutan itu dan berusaha mencari jalan keluar. Dia bertemu dengan sekelompok hewan liar dan belajar cara bertahan hidup dari mereka. Dia juga menemukan kekuatan dalam dirinya sendiri dan memperoleh keterampilan baru selama berada di hutan itu. Dengan keberanian dan kecerdikan, Maya akhirnya berhasil melarikan diri dari jebakan penjahat dan kembali ke kota kecilnya dengan pengalaman baru yang berharga.\"}, {\"pendahuluan\": \"Sarah adalah seorang petualang yang berani dan pemberani. Suatu hari, dia mendengar kabar tentang sebuah hutan terlarang yang belum pernah dijelajahi oleh manusia sebelumnya. Dia merasa tertarik dan memutuskan untuk menjelajahi hutan itu sendirian.\", \"klimaks\": \"Ketika Sarah memasuki hutan terlarang, dia segera menyadari bahwa hutan itu tidak seperti yang dia bayangkan. Semuanya gelap dan hening, dan dia merasa seperti ada sesuatu yang mengintai dari bayang-bayang. Saat dia terus melangkah lebih dalam, dia mulai merasa seperti ada yang mengikuti dan mengawasinya.\", \"solusi\": \"Sarah terus berjalan dan mencoba untuk menemukan jalan keluar dari hutan itu. Dia bertemu dengan berbagai bahaya, seperti lubang yang dalam dan berbagai binatang buas. Namun, dia tetap terus berjuang dan akhirnya menemukan jalan keluar. Setelah keluar dari hutan, dia merasa bangga atas pencapaiannya dan berjanji untuk tidak pernah melupakan pengalamannya di hutan terlarang tersebut.\"}, {\"pendahuluan\": \"Sarah, seorang guru bahasa Inggris yang sedang mengejar karirnya di kota besar, menerima telepon dari saudaranya yang menginformasikan bahwa ibunya sakit parah dan harus segera pulang ke desa halaman mereka di pedesaan.\", \"klimaks\": \"arah terpaksa meninggalkan kehidupannya yang sibuk di kota dan kembali ke desa halamannya. Namun, dia merasa kesulitan untuk beradaptasi dengan gaya hidup dan budaya yang berbeda dari kota tempat dia tinggal selama bertahun-tahun. Dia juga merasa terasing dengan teman-teman lama dan teman-teman baru di desa tersebut, dan merasa sulit untuk berhubungan dengan ibunya yang terus sakit.\", \"solusi\": \"Sarah akhirnya memutuskan untuk mengambil tindakan untuk membantu ibunya dan memperbaiki hubungan mereka. Dia mulai mengeksplorasi kembali desa tempat dia dibesarkan, mengenal orang-orang baru, belajar tentang budaya dan tradisi lokal, serta menemukan kedamaian dalam kehidupan yang sederhana. Melalui perjalanan ini, dia menemukan bahwa kebahagiaan sejati tidak selalu datang dari keberhasilan dan kesuksesan, melainkan dari hubungan yang baik dengan keluarga dan lingkungan sekitarnya.\"}, {\"pendahuluan\": \"Setelah kematian ibunya, Lisa menemukan sepasang anting-anting emas tua yang ia warisi dari keluarganya. Meskipun dia tidak tahu asal-usulnya, anting-anting itu menjadi barang yang sangat berarti baginya. Namun, ketika ia mengenakannya untuk pertama kalinya, salah satu anting-anting itu jatuh dan ia tidak bisa menemukannya kembali.\", \"klimaks\": \"Lisa berusaha mencari anting-anting yang hilang, namun dia tidak berhasil menemukannya. Hal ini membuatnya sangat sedih dan terus memikirkannya. Hingga suatu hari, ia melihat anting-anting yang hilang dipakai oleh seseorang di kerumunan orang dan mengikuti orang itu untuk mencari tahu asal-usulnya.\", \"solusi\": \"Setelah mengikuti orang tersebut, Lisa mengetahui bahwa anting-anting itu berasal dari keluarga lain yang telah kehilangan keluarga mereka selama Perang Dunia II. Dia merasa dilema, karena anting-anting itu sangat berarti baginya, tetapi juga harus memberikannya kepada pemilik sahnya. Lisa akhirnya memutuskan untuk mengembalikan anting-anting itu kepada keluarga yang hilang tersebut dan merasa lega karena telah membuat keputusan yang benar.\"}, {\"pendahuluan\": \"Sarah, seorang mahasiswa tingkat akhir, kehilangan kunci mobilnya saat sedang belajar di perpustakaan universitas. Dia harus segera menemukan kuncinya karena dia harus menghadiri sebuah wawancara kerja penting besok pagi.\", \"klimaks\": \"Sarah melakukan pencarian di sekitar perpustakaan, tetapi tidak berhasil menemukan kunci mobilnya. Dia terus mencari di berbagai tempat, termasuk di sepanjang jalur yang dia lewati untuk menuju ke perpustakaan. Namun, setelah beberapa jam mencari, Sarah masih belum menemukan kuncinya.\", \"solusi\": \"Tanpa pilihan lain, Sarah memutuskan untuk pulang kaki ke apartemennya yang berjarak beberapa kilometer dari perpustakaan. Selama perjalanannya, dia mengalami berbagai kendala dan rintangan, seperti cuaca buruk dan jalanan yang berbahaya. Namun, dia terus bertekad untuk sampai di rumah dan akhirnya berhasil tiba di apartemennya setelah berjalan kaki selama beberapa jam.\"}, {\"pendahuluan\": \"Mila adalah seorang perempuan muda yang memiliki impian untuk membangun usaha kopi yang sukses. Namun, ketika ia mendengar bahwa banyak usaha kecil yang harus gulung tikar dalam waktu singkat, ia merasa tidak yakin bahwa ia bisa mencapai sukses yang ia impikan.\", \"klimaks\": \"Mila mengetahui bahwa ada seorang pengusaha kaya yang sukses bernama Mr. Lee, yang memiliki banyak usaha dan salah satunya adalah kafe. Ia kemudian bertekad untuk meminta bantuan dari Mr. Lee, namun ia tidak tahu bagaimana cara menghubunginya.\", \"solusi\": \"Mila berusaha mencari cara untuk menghubungi Mr. Lee. Akhirnya, ia berhasil menghubungi Mr. Lee melalui media sosial dan meminta bantuan darinya. Mr. Lee ternyata merasa terkesan dengan semangat dan tekad Mila untuk membangun usaha kecilnya. Ia lalu memberikan banyak bantuan dan dukungan finansial kepada Mila untuk memulai usahanya. Mila kemudian membuka sebuah kafe yang sukses dan memperoleh keuntungan besar dari usahanya.\"}, {\"pendahuluan\": \"Nadia adalah seorang wanita muda yang sangat terobsesi dengan memasak. Ia bermimpi untuk membuka restoran sendiri suatu hari nanti dan menjadikannya tempat makan favorit bagi banyak orang.\", \"klimaks\": \"Namun, saat ia mencoba untuk membuka restoran pertamanya, ia menghadapi banyak tantangan. Tidak hanya sulit untuk membiayai restoran tersebut, ia juga kesulitan mencari lokasi yang tepat dan staf yang berkualitas. Selain itu, ia juga menghadapi banyak masalah teknis dalam memasak.\", \"solusi\": \"Namun, Nadia tidak menyerah begitu saja. Ia mulai menghadiri pelatihan memasak dan belajar dari koki-koki terkenal di seluruh dunia. Selain itu, ia juga mencari investor yang bisa membantu membiayai restorannya dan mempekerjakan tim yang andal untuk membantunya mengelola restoran tersebut. Dengan tekad dan kerja keras, restoran Nadia menjadi semakin terkenal dan ia menjadi salah satu koki terbaik di kota. Dengan penghasilan yang stabil dari restorannya, ia bahkan dapat membuka cabang restoran di kota lain dan menjadikannya sebagai rantai restoran yang sukses.\"}, {\"pendahuluan\": \"Di sebuah dunia yang diperintah oleh iblis jahat, seorang remaja bernama Arielle telah hidup selama bertahun-tahun dalam persembunyian, takut akan kekuatan gelap yang mengancam dunia. Namun, pada suatu hari, ia menemukan sebuah buku tua yang memberinya kekuatan magis yang dahulu dipercayai hilang selamanya.\", \"klimaks\": \"Segera setelah Arielle memulai pelatihannya, iblis jahat mengetahui tentang keberadaannya dan menyatakan perang terhadapnya. Arielle terpaksa melarikan diri dari rumahnya dan melintasi berbagai medan berbahaya dalam upayanya untuk mengumpulkan kekuatan yang cukup untuk menghadapi iblis jahat dan pasukannya.\", \"solusi\": \"Arielle mengalami berbagai rintangan dan tantangan dalam perjalanan untuk menjadi penyihir yang kuat. Ia bertemu dengan teman-teman baru dan musuh-musuh yang tak terduga, dan mempelajari lebih lanjut tentang kekuatannya dalam dunia yang penuh dengan sihir dan keajaiban. Meski tak terhindarkan, ia tetap berjuang untuk memenangkan perang melawan iblis jahat dan menjaga dunia tetap aman dari kekuatan gelap yang membahayakan.\"}, {\"pendahuluan\": \"Seorang wanita muda bernama Maya baru saja lulus kuliah dan memulai pekerjaan barunya sebagai editor buku di sebuah penerbit terkenal. Ia berusaha menyesuaikan diri dengan lingkungan kerja yang baru dan menemukan kehidupan di kota besar yang sama sekali berbeda dari kampung halamannya.\", \"klimaks\": \"Maya kesulitan untuk menyeimbangkan pekerjaannya yang menuntut dan kehidupan sosialnya yang baru. Ia sering harus bekerja lembur hingga larut malam dan tidak memiliki banyak waktu untuk bersantai atau bertemu dengan teman-teman barunya. Akibatnya, ia merasa semakin terasing dan kesepian.\", \"solusi\": \"Maya berusaha untuk mencari cara agar dapat menyeimbangkan antara pekerjaan dan kehidupan sosialnya. Ia mencoba untuk lebih terbuka dan memperluas jaringan pertemanannya di kantor, serta mencari kegiatan yang dapat mengisi waktu luangnya, seperti bergabung dengan klub buku atau mengikuti kelas yoga. Meskipun masih terkadang merasa kesulitan, Maya akhirnya berhasil menemukan keseimbangan dan merasa lebih bahagia dengan hidupnya yang baru.\"}, {\"pendahuluan\": \"Seorang remaja bernama Alex tinggal di kota kecil di dekat hutan yang terkenal karena keindahan alamnya. Dia selalu memimpikan petualangan di luar kota dan akhirnya dia memutuskan untuk pergi ke hutan itu sendirian.\", \"klimaks\": \"Alex tersesat di tengah hutan dan menemukan dirinya di sebuah desa yang tersembunyi di dalam hutan. Penduduk desa memberitahunya bahwa desa itu dilindungi oleh mantra dan tidak ada orang asing yang boleh masuk ke desa itu. Namun, Alex penasaran dengan desa itu dan ingin mengetahui lebih banyak tentang kehidupan di sana.\", \"solusi\": \"Alex bertemu dengan seorang gadis bernama Lea di desa itu. Lea memberitahu Alex bahwa desa itu dulunya merupakan pusat kerajaan besar yang kaya raya dan memiliki kekuatan magis yang sangat kuat. Namun, setelah kekuatan magis itu disalahgunakan oleh raja, desa itu dijaga oleh para penyihir dan mantra untuk mencegah orang yang tidak berhak masuk ke desa itu. Alex dan Lea memutuskan untuk mencari tahu lebih banyak tentang sejarah desa itu dan menemukan kekuatan magis yang hilang itu. \"}, {\"pendahuluan\": \"Ethan, seorang ahli petualangan muda yang sedang mencari harta karun legendaris yang hilang di dalam hutan terlarang. Ethan memulai perjalanannya dengan bertemu dengan seorang pemandu lokal bernama Kato, yang mengetahui rahasia hutan tersebut.\", \"klimaks\": \"Ketika mereka memasuki hutan, mereka segera diserang oleh makhluk besar yang dikenal sebagai raksasa kayu. Kato terluka dalam serangan itu dan keduanya tersesat di hutan yang rumit. Mereka menemukan kembali jalan mereka, tetapi semakin dalam mereka memasuki hutan, semakin banyak rintangan yang mereka hadapi. Mereka menemukan peninggalan kuno dan juga bertemu dengan suku-suku hutan yang berbahaya.\", \"solusi\": \"Kato dan Ethan terus menghadapi berbagai rintangan, termasuk melewati sungai yang mengamuk, melewati ngarai yang dalam, dan memanjat tebing yang curam. Setelah melalui berbagai rintangan, mereka menemukan harta karun legendaris yang selama ini mereka cari. Namun, mereka masih harus berjuang untuk keluar dari hutan dan melawan musuh-musuh yang masih menghalangi jalan mereka.\"}, {\"pendahuluan\": \"Zara adalah seorang komedian yang populer di kota kecilnya. Dia menemukan dirinya dalam kesulitan ketika anak kecil di lingkungannya meminta bantuan padanya untuk menemukan boneka kesayangan mereka yang hilang.\", \"klimaks\": \"Zara sangat tidak berpengalaman dalam mencari barang hilang dan awalnya ragu apakah dia bisa menyelesaikan tugas ini. Tapi dia merasa terikat pada anak kecil dan akhirnya setuju untuk membantu mereka dalam pencarian boneka yang hilang. Namun, setelah beberapa jam mencari, mereka tidak berhasil menemukan boneka itu dan semakin dekat dengan waktu tidur anak kecil.\", \"solusi\": \"Dalam upaya untuk menemukan boneka yang hilang, Zara dan anak-anak kecil itu mencoba berbagai cara, termasuk berjalan-jalan di taman dan memeriksa kotak sampah. Akhirnya, mereka menemukan boneka di tangan seekor anjing dan melalui beberapa usaha, Zara berhasil merebut boneka itu dari anjing itu dan mengembalikannya ke tangan anak kecil dengan selamat.\"}, {\"pendahuluan\": \"Dalam perjalanan pulang dari kantor, Anna tiba-tiba terjebak dalam sebuah portal dan tiba-tiba muncul di dunia yang sama sekali berbeda. Dia disambut oleh sekelompok makhluk aneh yang mengaku sebagai penduduk dunia ini.\", \"klimaks\": \"Anna sangat terkejut dengan situasi yang dia hadapi. Dia merasa kebingungan dan kesepian karena jauh dari keluarga dan teman-temannya. Namun, dia tidak kehilangan harapan untuk bisa kembali ke dunia asalnya. Anna mencoba mencari tahu lebih banyak tentang dunia ini dan mencari cara untuk kembali ke rumah.\", \"solusi\": \"Anna berteman dengan beberapa penduduk dunia baru ini dan belajar banyak tentang dunia mereka. Dia menemukan bahwa dunia baru ini sangat berbeda dari dunianya dan terus mencari tahu tentang cara-cara yang mungkin bisa membantunya kembali ke rumah. Anna menemukan bahwa satu-satunya cara untuk kembali ke dunianya adalah dengan menyelesaikan beberapa tugas yang diberikan oleh para penduduk dunia ini.\"}, {\"pendahuluan\": \"Saat berjalan pulang dari kampus, seorang mahasiswa yang bernama Rizki tiba-tiba terseret ke dalam sebuah portal dan terlempar ke dunia yang sama sekali berbeda. Rizki terkejut dan bingung dengan kondisi barunya dan mulai mencari cara untuk kembali ke dunianya.\", \"klimaks\": \"Rizki menemukan bahwa dunia baru ini penuh dengan makhluk-makhluk aneh dan bahkan monster yang membahayakan. Untuk bertahan hidup, ia harus belajar beradaptasi dan menguasai keterampilan yang baru. Namun, semakin lama Rizki berada di dunia itu, semakin ia merasa terikat dan ingin mengeksplorasi dunia baru tersebut.\", \"solusi\": \"Rizki bertemu dengan beberapa karakter aneh di dunia baru tersebut, termasuk seorang penyihir jahat yang ingin mengambil alih dunia. Rizki dan teman barunya harus bekerja sama untuk menghentikan rencana jahat penyihir itu sambil tetap mencari cara untuk kembali ke dunianya. Selama petualangan mereka, Rizki belajar mengenal karakteristik dan kemampuan mereka masing-masing, serta menemukan kekuatannya sendiri dan nilai-nilai yang lebih penting dalam hidup.\"}]\n"
     ]
    }
   ],
   "source": [
    "import json\n",
    "\n",
    "json_data = []\n",
    "input_data = [\n",
    "   #  ['Pengenalan', 'Konflik', 'Solusi'],\n",
    "    [\n",
    "        'Subaru memikirkan konsep keabadian, sebuah gagasan yang sering muncul dalam dunia dongeng. Namun, Subaru ingin menertawakan ambisi keabadian sebagai sesuatu yang konyol, meskipun merinding ketika mendengar tentang eksperimen Penyihir Keserakahan yang jauh dari sekadar khayalan semata.',\n",
    "        'Subaru menyadari bahwa keabadian bukanlah sesuatu yang bisa diabaikan begitu saja. Echidona memiliki kemampuan untuk menciptakan keabadian dan Subaru bertekad untuk menghadapi ambisi sang penyihir untuk mencegahnya menciptakan keabadian.',\n",
    "        'Subaru berusaha mencari informasi dan sumber daya yang dibutuhkan untuk menghadapi Echidona. Dia belajar lebih dalam tentang makna keabadian dan konsekuensinya bagi kehidupan. Akhirnya, Subaru berhasil menghadapi Echidona dan mencegahnya menciptakan keabadian.'\n",
    "    ],\n",
    "    [\n",
    "        'Seorang pangeran muda, Aiden, hidup dalam kerajaan yang dikepung oleh musuh bebuyutan mereka, Kerajaan Gelap. Aiden memiliki kekuatan sihir yang hebat yang dia warisi dari ayahnya, seorang penyihir terkenal yang telah meninggal. Namun, Aiden belum mampu mengendalikan kekuatannya dan sering kali membawa bencana.',\n",
    "        'Ketika pasukan Kerajaan Gelap menyerang, Aiden berusaha untuk menggunakan kekuatannya untuk membantu mempertahankan kerajaannya. Namun, kekuatannya malah melampaui kendalinya dan menciptakan ledakan besar yang hampir menghancurkan kerajaan sendiri. Diusir dari kerajaan, Aiden merasa putus asa dan takut akan kekuatannya sendiri.',\n",
    "        'Aiden bertemu dengan seorang penyihir tua yang memperkenalkannya pada sebuah klan penyihir yang terkenal dan mampu mengendalikan kekuatan sihir mereka. Aiden bergabung dengan klan tersebut dan belajar untuk mengendalikan kekuatannya. Dia menemukan teman dan mentor dalam proses itu dan merasa lebih percaya diri dengan kemampuannya. Ketika Kerajaan Gelap menyerang kembali, Aiden kembali ke kerajaannya dengan kekuatan yang telah didapatkan dari penyihir tua.'\n",
    "    ],\n",
    "    [\n",
    "        'Sinta adalah seorang penyihir muda yang sangat berbakat dan sedang belajar ilmu sihir di Akademi Sihir Elvandor. Ia tinggal di asrama bersama teman-temannya, termasuk sahabat karibnya, seorang peri bernama Lila. Sinta selalu bersemangat dalam mengembangkan kemampuannya, meskipun terkadang ia merasa sedikit kesepian karena keluarganya tinggal jauh dari akademi.',\n",
    "        'Suatu hari, sebuah kekuatan jahat muncul dan menyerang akademi, mengancam keberadaan Sinta, Lila, dan teman-temannya. Kekuatan jahat ini dipimpin oleh seorang penyihir jahat yang pernah diusir dari akademi karena melakukan praktik sihir hitam. Sinta dan teman-temannya merasa sangat terancam oleh kekuatan jahat ini, dan merasa kesulitan untuk melawan mereka karena kekuatan sihir mereka masih belum cukup kuat.',\n",
    "        'Sinta dan teman-temannya kemudian memutuskan untuk melakukan perjalanan ke sebuah tempat yang sangat terpencil untuk menemukan seorang penyihir tua yang dikenal sebagai Guru Besar. Guru Besar ini dikenal sebagai ahli sihir yang sangat kuat, dan mungkin satu-satunya orang yang dapat membantu mereka mengalahkan kekuatan jahat yang menyerang akademi. Sinta dan teman-temannya harus melewati banyak rintangan dan bahaya di sepanjang perjalanan mereka, termasuk pertarungan dengan makhluk-makhluk buas dan jebakan-jebakan yang dipasang oleh musuh mereka. '\n",
    "    ],\n",
    "    [\n",
    "        'Di dunia magis, seorang putri bernama Elara yang diberikan kekuatan oleh seorang penyihir untuk melindungi kerajaannya dari ancaman iblis. Namun, ketika dia mencapai usia dewasa, penyihir itu menghilang dan kekuatannya mulai pudar.',\n",
    "        'Ketika kerajaannya diserang oleh pasukan iblis yang dipimpin oleh raja iblis yang ganas, Elara berusaha melindungi kerajaannya, namun dia tidak memiliki kekuatan yang cukup untuk mengalahkan mereka. Putri itu kemudian berusaha mencari penyihir yang memberinya kekuatan dahulu untuk membantunya memperoleh kembali kekuatannya.',\n",
    "        'Elara memulai perjalanan panjang untuk menemukan penyihir itu, dia harus melewati berbagai rintangan dan menghadapi bahaya yang menakutkan di dunia magis. Dia bertemu dengan berbagai karakter termasuk peri, naga, dan ksatria yang membantunya dalam pencariannya. Setelah melalui perjalanan yang sulit, Elara akhirnya menemukan penyihir itu dan memperoleh kekuatannya kembali. '\n",
    "    ],\n",
    "    [\n",
    "        'Seorang putri muda yang bernama Luna hidup dalam sebuah kerajaan besar yang dipimpin oleh raja dan ratu. Luna adalah putri yang cerdas, berbakat, dan memiliki kekuatan magis yang luar biasa. Namun, Luna memiliki rahasia yang dia sembunyikan dari orang lain, yaitu dia adalah keturunan dari ras peri yang dipercayai telah punah.',\n",
    "        'Suatu hari, Luna menemukan bahwa sebuah kutukan kuat telah menimpa kerajaannya dan mengancam untuk menghancurkannya. Luna menyadari bahwa hanya kekuatannya sebagai peri yang dapat menyelamatkan kerajaannya dan rakyatnya. Namun, dia tahu bahwa jika dia mengungkapkan identitasnya sebagai peri, dia akan dianggap sebagai pengkhianat dan dihukum mati.',\n",
    "        'Luna harus memutuskan antara melindungi identitasnya sebagai peri dan menyelamatkan kerajaannya atau mengorbankan dirinya sendiri demi menjaga rahasianya. Luna memutuskan untuk menggunakan kekuatan magisnya dan merencanakan strategi dengan hati-hati untuk mengalahkan kutukan dan menyelamatkan kerajaannya. Dalam perjalanan ini, Luna menemukan kekuatan baru dan belajar bahwa dia dapat menggabungkan kekuatannya sebagai peri dan putri untuk menjadi pahlawan sejati dan menyelamatkan kerajaannya dari kehancuran.'\n",
    "    ],\n",
    "    [\n",
    "        'Sinta adalah seorang gadis desa yang tumbuh di pedesaan. Dia bercita-cita untuk mengejar mimpinya di kota besar dan akhirnya pindah ke sana setelah lulus SMA. Namun, ia merasa kesulitan untuk beradaptasi dengan kehidupan di kota dan sering merasa terasing.',\n",
    "        'Sinta berjuang untuk menemukan pekerjaan dan teman-teman di kota besar. Dia merasa sulit untuk berbaur dengan orang-orang yang berbeda latar belakang dan budaya. Ia sering kali merasa kesepian dan frustasi, bahkan terkadang ingin kembali ke desa.',\n",
    "        'Sinta bertekad untuk tetap tinggal di kota besar dan mengejar mimpinya. Dia memutuskan untuk mengikuti kursus bahasa Inggris dan mengikuti kegiatan sosial untuk bertemu dengan orang baru dan memperluas jaringan sosialnya. Meskipun kesulitan dan rintangan terus muncul, Sinta berusaha untuk tidak menyerah dan tetap melangkah maju untuk mencapai tujuannya.'\n",
    "    ],\n",
    "    [\n",
    "        'Seorang remaja bernama Maya yang baru saja pindah ke sebuah kota kecil dengan ibunya setelah orang tuanya bercerai. Maya sedang mencoba menyesuaikan diri dengan lingkungan baru dan mencari teman baru di sekolah barunya.',\n",
    "        'Maya terus-menerus merasa kesepian dan sulit untuk berteman di sekolah barunya. Selain itu, ia juga mengalami beberapa kejadian aneh di rumah barunya, seperti suara-suara aneh dan benda-benda yang bergerak sendiri. Maya mulai merasa takut dan terancam di rumah barunya.',\n",
    "        'Maya memutuskan untuk menyelidiki kejadian aneh di rumah barunya. Dengan bantuan internet, Maya menemukan bahwa rumahnya dulu adalah tempat kejadian pembunuhan misterius. Maya mulai menyadari bahwa ia tidak sendirian dan sedang dihantui oleh roh-roh jahat yang masih berkeliaran di dalam rumah. Maya mulai mencari cara untuk mengusir roh-roh jahat dan mengungkap kebenaran di balik pembunuhan tersebut.'\n",
    "    ],\n",
    "    [\n",
    "        'Di sebuah kota kecil, ada seorang gadis bernama Maya yang sangat menyukai petualangan. Dia selalu ingin menjelajahi tempat-tempat baru dan mencari pengalaman yang menarik. Meskipun Maya adalah seorang siswa yang rajin, dia seringkali merasa bosan dengan kehidupannya yang monoton di kota kecil itu.',\n",
    "        'Suatu hari, Maya mendengar kabar tentang sebuah hutan yang dianggap misterius dan penuh dengan bahaya. Dia sangat penasaran dan memutuskan untuk mencari tahu lebih banyak tentang hutan itu. Namun, ketika dia tiba di hutan itu, dia terjebak dalam jebakan yang diletakkan oleh sekelompok penjahat yang tinggal di hutan itu. Maya merasa sangat ketakutan dan terjebak dalam hutan itu tanpa ada jalan keluar.',\n",
    "        'Maya berjuang untuk bertahan hidup di hutan itu dan berusaha mencari jalan keluar. Dia bertemu dengan sekelompok hewan liar dan belajar cara bertahan hidup dari mereka. Dia juga menemukan kekuatan dalam dirinya sendiri dan memperoleh keterampilan baru selama berada di hutan itu. Dengan keberanian dan kecerdikan, Maya akhirnya berhasil melarikan diri dari jebakan penjahat dan kembali ke kota kecilnya dengan pengalaman baru yang berharga.'\n",
    "    ],\n",
    "    [\n",
    "        'Sarah adalah seorang petualang yang berani dan pemberani. Suatu hari, dia mendengar kabar tentang sebuah hutan terlarang yang belum pernah dijelajahi oleh manusia sebelumnya. Dia merasa tertarik dan memutuskan untuk menjelajahi hutan itu sendirian.',\n",
    "        'Ketika Sarah memasuki hutan terlarang, dia segera menyadari bahwa hutan itu tidak seperti yang dia bayangkan. Semuanya gelap dan hening, dan dia merasa seperti ada sesuatu yang mengintai dari bayang-bayang. Saat dia terus melangkah lebih dalam, dia mulai merasa seperti ada yang mengikuti dan mengawasinya.',\n",
    "        'Sarah terus berjalan dan mencoba untuk menemukan jalan keluar dari hutan itu. Dia bertemu dengan berbagai bahaya, seperti lubang yang dalam dan berbagai binatang buas. Namun, dia tetap terus berjuang dan akhirnya menemukan jalan keluar. Setelah keluar dari hutan, dia merasa bangga atas pencapaiannya dan berjanji untuk tidak pernah melupakan pengalamannya di hutan terlarang tersebut.'\n",
    "    ],\n",
    "    [\n",
    "        'Sarah, seorang guru bahasa Inggris yang sedang mengejar karirnya di kota besar, menerima telepon dari saudaranya yang menginformasikan bahwa ibunya sakit parah dan harus segera pulang ke desa halaman mereka di pedesaan.',\n",
    "        'arah terpaksa meninggalkan kehidupannya yang sibuk di kota dan kembali ke desa halamannya. Namun, dia merasa kesulitan untuk beradaptasi dengan gaya hidup dan budaya yang berbeda dari kota tempat dia tinggal selama bertahun-tahun. Dia juga merasa terasing dengan teman-teman lama dan teman-teman baru di desa tersebut, dan merasa sulit untuk berhubungan dengan ibunya yang terus sakit.',\n",
    "        'Sarah akhirnya memutuskan untuk mengambil tindakan untuk membantu ibunya dan memperbaiki hubungan mereka. Dia mulai mengeksplorasi kembali desa tempat dia dibesarkan, mengenal orang-orang baru, belajar tentang budaya dan tradisi lokal, serta menemukan kedamaian dalam kehidupan yang sederhana. Melalui perjalanan ini, dia menemukan bahwa kebahagiaan sejati tidak selalu datang dari keberhasilan dan kesuksesan, melainkan dari hubungan yang baik dengan keluarga dan lingkungan sekitarnya.'\n",
    "    ],\n",
    "    [\n",
    "        'Setelah kematian ibunya, Lisa menemukan sepasang anting-anting emas tua yang ia warisi dari keluarganya. Meskipun dia tidak tahu asal-usulnya, anting-anting itu menjadi barang yang sangat berarti baginya. Namun, ketika ia mengenakannya untuk pertama kalinya, salah satu anting-anting itu jatuh dan ia tidak bisa menemukannya kembali.',\n",
    "        'Lisa berusaha mencari anting-anting yang hilang, namun dia tidak berhasil menemukannya. Hal ini membuatnya sangat sedih dan terus memikirkannya. Hingga suatu hari, ia melihat anting-anting yang hilang dipakai oleh seseorang di kerumunan orang dan mengikuti orang itu untuk mencari tahu asal-usulnya.',\n",
    "        'Setelah mengikuti orang tersebut, Lisa mengetahui bahwa anting-anting itu berasal dari keluarga lain yang telah kehilangan keluarga mereka selama Perang Dunia II. Dia merasa dilema, karena anting-anting itu sangat berarti baginya, tetapi juga harus memberikannya kepada pemilik sahnya. Lisa akhirnya memutuskan untuk mengembalikan anting-anting itu kepada keluarga yang hilang tersebut dan merasa lega karena telah membuat keputusan yang benar.'\n",
    "    ],\n",
    "    [\n",
    "        'Sarah, seorang mahasiswa tingkat akhir, kehilangan kunci mobilnya saat sedang belajar di perpustakaan universitas. Dia harus segera menemukan kuncinya karena dia harus menghadiri sebuah wawancara kerja penting besok pagi.',\n",
    "        'Sarah melakukan pencarian di sekitar perpustakaan, tetapi tidak berhasil menemukan kunci mobilnya. Dia terus mencari di berbagai tempat, termasuk di sepanjang jalur yang dia lewati untuk menuju ke perpustakaan. Namun, setelah beberapa jam mencari, Sarah masih belum menemukan kuncinya.',\n",
    "        'Tanpa pilihan lain, Sarah memutuskan untuk pulang kaki ke apartemennya yang berjarak beberapa kilometer dari perpustakaan. Selama perjalanannya, dia mengalami berbagai kendala dan rintangan, seperti cuaca buruk dan jalanan yang berbahaya. Namun, dia terus bertekad untuk sampai di rumah dan akhirnya berhasil tiba di apartemennya setelah berjalan kaki selama beberapa jam.'\n",
    "    ],\n",
    "    [\n",
    "        'Mila adalah seorang perempuan muda yang memiliki impian untuk membangun usaha kopi yang sukses. Namun, ketika ia mendengar bahwa banyak usaha kecil yang harus gulung tikar dalam waktu singkat, ia merasa tidak yakin bahwa ia bisa mencapai sukses yang ia impikan.',\n",
    "        'Mila mengetahui bahwa ada seorang pengusaha kaya yang sukses bernama Mr. Lee, yang memiliki banyak usaha dan salah satunya adalah kafe. Ia kemudian bertekad untuk meminta bantuan dari Mr. Lee, namun ia tidak tahu bagaimana cara menghubunginya.',\n",
    "        'Mila berusaha mencari cara untuk menghubungi Mr. Lee. Akhirnya, ia berhasil menghubungi Mr. Lee melalui media sosial dan meminta bantuan darinya. Mr. Lee ternyata merasa terkesan dengan semangat dan tekad Mila untuk membangun usaha kecilnya. Ia lalu memberikan banyak bantuan dan dukungan finansial kepada Mila untuk memulai usahanya. Mila kemudian membuka sebuah kafe yang sukses dan memperoleh keuntungan besar dari usahanya.'\n",
    "    ],\n",
    "    [\n",
    "        'Nadia adalah seorang wanita muda yang sangat terobsesi dengan memasak. Ia bermimpi untuk membuka restoran sendiri suatu hari nanti dan menjadikannya tempat makan favorit bagi banyak orang.',\n",
    "        'Namun, saat ia mencoba untuk membuka restoran pertamanya, ia menghadapi banyak tantangan. Tidak hanya sulit untuk membiayai restoran tersebut, ia juga kesulitan mencari lokasi yang tepat dan staf yang berkualitas. Selain itu, ia juga menghadapi banyak masalah teknis dalam memasak.',\n",
    "        'Namun, Nadia tidak menyerah begitu saja. Ia mulai menghadiri pelatihan memasak dan belajar dari koki-koki terkenal di seluruh dunia. Selain itu, ia juga mencari investor yang bisa membantu membiayai restorannya dan mempekerjakan tim yang andal untuk membantunya mengelola restoran tersebut. Dengan tekad dan kerja keras, restoran Nadia menjadi semakin terkenal dan ia menjadi salah satu koki terbaik di kota. Dengan penghasilan yang stabil dari restorannya, ia bahkan dapat membuka cabang restoran di kota lain dan menjadikannya sebagai rantai restoran yang sukses.'\n",
    "    ],\n",
    "    [\n",
    "        'Di sebuah dunia yang diperintah oleh iblis jahat, seorang remaja bernama Arielle telah hidup selama bertahun-tahun dalam persembunyian, takut akan kekuatan gelap yang mengancam dunia. Namun, pada suatu hari, ia menemukan sebuah buku tua yang memberinya kekuatan magis yang dahulu dipercayai hilang selamanya.',\n",
    "        'Segera setelah Arielle memulai pelatihannya, iblis jahat mengetahui tentang keberadaannya dan menyatakan perang terhadapnya. Arielle terpaksa melarikan diri dari rumahnya dan melintasi berbagai medan berbahaya dalam upayanya untuk mengumpulkan kekuatan yang cukup untuk menghadapi iblis jahat dan pasukannya.',\n",
    "        'Arielle mengalami berbagai rintangan dan tantangan dalam perjalanan untuk menjadi penyihir yang kuat. Ia bertemu dengan teman-teman baru dan musuh-musuh yang tak terduga, dan mempelajari lebih lanjut tentang kekuatannya dalam dunia yang penuh dengan sihir dan keajaiban. Meski tak terhindarkan, ia tetap berjuang untuk memenangkan perang melawan iblis jahat dan menjaga dunia tetap aman dari kekuatan gelap yang membahayakan.'\n",
    "    ],\n",
    "    [\n",
    "        'Seorang wanita muda bernama Maya baru saja lulus kuliah dan memulai pekerjaan barunya sebagai editor buku di sebuah penerbit terkenal. Ia berusaha menyesuaikan diri dengan lingkungan kerja yang baru dan menemukan kehidupan di kota besar yang sama sekali berbeda dari kampung halamannya.',\n",
    "        'Maya kesulitan untuk menyeimbangkan pekerjaannya yang menuntut dan kehidupan sosialnya yang baru. Ia sering harus bekerja lembur hingga larut malam dan tidak memiliki banyak waktu untuk bersantai atau bertemu dengan teman-teman barunya. Akibatnya, ia merasa semakin terasing dan kesepian.',\n",
    "        'Maya berusaha untuk mencari cara agar dapat menyeimbangkan antara pekerjaan dan kehidupan sosialnya. Ia mencoba untuk lebih terbuka dan memperluas jaringan pertemanannya di kantor, serta mencari kegiatan yang dapat mengisi waktu luangnya, seperti bergabung dengan klub buku atau mengikuti kelas yoga. Meskipun masih terkadang merasa kesulitan, Maya akhirnya berhasil menemukan keseimbangan dan merasa lebih bahagia dengan hidupnya yang baru.'\n",
    "    ],\n",
    "    [\n",
    "        'Seorang remaja bernama Alex tinggal di kota kecil di dekat hutan yang terkenal karena keindahan alamnya. Dia selalu memimpikan petualangan di luar kota dan akhirnya dia memutuskan untuk pergi ke hutan itu sendirian.',\n",
    "        'Alex tersesat di tengah hutan dan menemukan dirinya di sebuah desa yang tersembunyi di dalam hutan. Penduduk desa memberitahunya bahwa desa itu dilindungi oleh mantra dan tidak ada orang asing yang boleh masuk ke desa itu. Namun, Alex penasaran dengan desa itu dan ingin mengetahui lebih banyak tentang kehidupan di sana.',\n",
    "        'Alex bertemu dengan seorang gadis bernama Lea di desa itu. Lea memberitahu Alex bahwa desa itu dulunya merupakan pusat kerajaan besar yang kaya raya dan memiliki kekuatan magis yang sangat kuat. Namun, setelah kekuatan magis itu disalahgunakan oleh raja, desa itu dijaga oleh para penyihir dan mantra untuk mencegah orang yang tidak berhak masuk ke desa itu. Alex dan Lea memutuskan untuk mencari tahu lebih banyak tentang sejarah desa itu dan menemukan kekuatan magis yang hilang itu. '\n",
    "    ],\n",
    "    [\n",
    "        'Ethan, seorang ahli petualangan muda yang sedang mencari harta karun legendaris yang hilang di dalam hutan terlarang. Ethan memulai perjalanannya dengan bertemu dengan seorang pemandu lokal bernama Kato, yang mengetahui rahasia hutan tersebut.',\n",
    "        'Ketika mereka memasuki hutan, mereka segera diserang oleh makhluk besar yang dikenal sebagai raksasa kayu. Kato terluka dalam serangan itu dan keduanya tersesat di hutan yang rumit. Mereka menemukan kembali jalan mereka, tetapi semakin dalam mereka memasuki hutan, semakin banyak rintangan yang mereka hadapi. Mereka menemukan peninggalan kuno dan juga bertemu dengan suku-suku hutan yang berbahaya.',\n",
    "        'Kato dan Ethan terus menghadapi berbagai rintangan, termasuk melewati sungai yang mengamuk, melewati ngarai yang dalam, dan memanjat tebing yang curam. Setelah melalui berbagai rintangan, mereka menemukan harta karun legendaris yang selama ini mereka cari. Namun, mereka masih harus berjuang untuk keluar dari hutan dan melawan musuh-musuh yang masih menghalangi jalan mereka.'\n",
    "    ],\n",
    "    [\n",
    "        'Zara adalah seorang komedian yang populer di kota kecilnya. Dia menemukan dirinya dalam kesulitan ketika anak kecil di lingkungannya meminta bantuan padanya untuk menemukan boneka kesayangan mereka yang hilang.',\n",
    "        'Zara sangat tidak berpengalaman dalam mencari barang hilang dan awalnya ragu apakah dia bisa menyelesaikan tugas ini. Tapi dia merasa terikat pada anak kecil dan akhirnya setuju untuk membantu mereka dalam pencarian boneka yang hilang. Namun, setelah beberapa jam mencari, mereka tidak berhasil menemukan boneka itu dan semakin dekat dengan waktu tidur anak kecil.',\n",
    "        'Dalam upaya untuk menemukan boneka yang hilang, Zara dan anak-anak kecil itu mencoba berbagai cara, termasuk berjalan-jalan di taman dan memeriksa kotak sampah. Akhirnya, mereka menemukan boneka di tangan seekor anjing dan melalui beberapa usaha, Zara berhasil merebut boneka itu dari anjing itu dan mengembalikannya ke tangan anak kecil dengan selamat.'\n",
    "    ],\n",
    "    [\n",
    "        'Dalam perjalanan pulang dari kantor, Anna tiba-tiba terjebak dalam sebuah portal dan tiba-tiba muncul di dunia yang sama sekali berbeda. Dia disambut oleh sekelompok makhluk aneh yang mengaku sebagai penduduk dunia ini.',\n",
    "        'Anna sangat terkejut dengan situasi yang dia hadapi. Dia merasa kebingungan dan kesepian karena jauh dari keluarga dan teman-temannya. Namun, dia tidak kehilangan harapan untuk bisa kembali ke dunia asalnya. Anna mencoba mencari tahu lebih banyak tentang dunia ini dan mencari cara untuk kembali ke rumah.',\n",
    "        'Anna berteman dengan beberapa penduduk dunia baru ini dan belajar banyak tentang dunia mereka. Dia menemukan bahwa dunia baru ini sangat berbeda dari dunianya dan terus mencari tahu tentang cara-cara yang mungkin bisa membantunya kembali ke rumah. Anna menemukan bahwa satu-satunya cara untuk kembali ke dunianya adalah dengan menyelesaikan beberapa tugas yang diberikan oleh para penduduk dunia ini.'\n",
    "    ],\n",
    "    [\n",
    "        'Saat berjalan pulang dari kampus, seorang mahasiswa yang bernama Rizki tiba-tiba terseret ke dalam sebuah portal dan terlempar ke dunia yang sama sekali berbeda. Rizki terkejut dan bingung dengan kondisi barunya dan mulai mencari cara untuk kembali ke dunianya.',\n",
    "        'Rizki menemukan bahwa dunia baru ini penuh dengan makhluk-makhluk aneh dan bahkan monster yang membahayakan. Untuk bertahan hidup, ia harus belajar beradaptasi dan menguasai keterampilan yang baru. Namun, semakin lama Rizki berada di dunia itu, semakin ia merasa terikat dan ingin mengeksplorasi dunia baru tersebut.',\n",
    "        'Rizki bertemu dengan beberapa karakter aneh di dunia baru tersebut, termasuk seorang penyihir jahat yang ingin mengambil alih dunia. Rizki dan teman barunya harus bekerja sama untuk menghentikan rencana jahat penyihir itu sambil tetap mencari cara untuk kembali ke dunianya. Selama petualangan mereka, Rizki belajar mengenal karakteristik dan kemampuan mereka masing-masing, serta menemukan kekuatannya sendiri dan nilai-nilai yang lebih penting dalam hidup.'\n",
    "    ],\n",
    "]\n",
    "\n",
    "for i in range(len(input_data)):\n",
    "    json_data.append({\n",
    "        \"pendahuluan\": input_data[i][0],\n",
    "        \"klimaks\": input_data[i][1],\n",
    "        \"solusi\": input_data[i][2]\n",
    "    })\n",
    "\n",
    "json_string = json.dumps(json_data)\n",
    "print(json_string)\n",
    "\n",
    "with open(\"data.json\", \"w\") as outfile:\n",
    "    json.dump(json_data, outfile)"
   ]
  },
  {
   "cell_type": "code",
   "execution_count": 2,
   "metadata": {},
   "outputs": [],
   "source": [
    "import json"
   ]
  },
  {
   "cell_type": "code",
   "execution_count": 2,
   "metadata": {},
   "outputs": [],
   "source": [
    "import re\n",
    "import json\n",
    "from sklearn.model_selection import train_test_split\n",
    "\n",
    "with open('data.json') as f:\n",
    "    data = json.load(f)\n",
    "\n",
    "def build_text_files(data_json, dest_path, label):\n",
    "    f = open(dest_path, 'w')\n",
    "    data = ''\n",
    "    for texts in data_json:\n",
    "        summary = str(texts[label]).strip()\n",
    "        summary = re.sub(r\"\\s\", \" \", summary)\n",
    "        data += summary + \"  \"\n",
    "    f.write(data)\n",
    "\n",
    "train, test = train_test_split(data, test_size=0.15) \n",
    "\n",
    "build_text_files(train, 'train_dataset_introduction.txt', 'pendahuluan')\n",
    "build_text_files(train, 'train_dataset_climax.txt', 'klimaks')\n",
    "build_text_files(train, 'train_dataset_resolution.txt', 'solusi')\n",
    "\n",
    "build_text_files(test, 'test_dataset_introduction.txt', 'pendahuluan')\n",
    "build_text_files(test, 'test_dataset_climax.txt', 'klimaks')\n",
    "build_text_files(test, 'test_dataset_resolution.txt', 'solusi')"
   ]
  },
  {
   "cell_type": "code",
   "execution_count": 22,
   "metadata": {},
   "outputs": [
    {
     "name": "stderr",
     "output_type": "stream",
     "text": [
      "loading file vocab.json from cache at C:\\Users\\asus/.cache\\huggingface\\hub\\models--indonesian-nlp--gpt2\\snapshots\\0995ba6b42b12180954cdc68b7e08fa7bc6daae6\\vocab.json\n",
      "loading file merges.txt from cache at C:\\Users\\asus/.cache\\huggingface\\hub\\models--indonesian-nlp--gpt2\\snapshots\\0995ba6b42b12180954cdc68b7e08fa7bc6daae6\\merges.txt\n",
      "loading file tokenizer.json from cache at C:\\Users\\asus/.cache\\huggingface\\hub\\models--indonesian-nlp--gpt2\\snapshots\\0995ba6b42b12180954cdc68b7e08fa7bc6daae6\\tokenizer.json\n",
      "loading file added_tokens.json from cache at None\n",
      "loading file special_tokens_map.json from cache at None\n",
      "loading file tokenizer_config.json from cache at C:\\Users\\asus/.cache\\huggingface\\hub\\models--indonesian-nlp--gpt2\\snapshots\\0995ba6b42b12180954cdc68b7e08fa7bc6daae6\\tokenizer_config.json\n"
     ]
    }
   ],
   "source": []
  },
  {
   "cell_type": "code",
   "execution_count": 2,
   "metadata": {},
   "outputs": [
    {
     "name": "stderr",
     "output_type": "stream",
     "text": [
      "C:\\Users\\asus\\AppData\\Roaming\\Python\\Python310\\site-packages\\tqdm\\auto.py:22: TqdmWarning: IProgress not found. Please update jupyter and ipywidgets. See https://ipywidgets.readthedocs.io/en/stable/user_install.html\n",
      "  from .autonotebook import tqdm as notebook_tqdm\n",
      "c:\\Users\\asus\\anaconda3\\envs\\Transformers-310\\lib\\site-packages\\transformers\\data\\datasets\\language_modeling.py:54: FutureWarning: This dataset will be removed from the library soon, preprocessing should be handled with the 🤗 Datasets library. You can have a look at this example script for pointers: https://github.com/huggingface/transformers/blob/main/examples/pytorch/language-modeling/run_mlm.py\n",
      "  warnings.warn(\n"
     ]
    }
   ],
   "source": [
    "from transformers import AutoTokenizer\n",
    "tokenizer = AutoTokenizer.from_pretrained(\"indonesian-nlp/gpt2\")\n",
    "from transformers import TextDataset,DataCollatorForLanguageModeling\n",
    "\n",
    "train_dataset_introduction = TextDataset(\n",
    "    tokenizer=tokenizer,\n",
    "    file_path='train_dataset_introduction.txt',\n",
    "    block_size=128\n",
    ")\n",
    "\n",
    "train_dataset_climax = TextDataset(\n",
    "    tokenizer=tokenizer,\n",
    "    file_path='train_dataset_climax.txt',\n",
    "    block_size=128\n",
    ")\n",
    "\n",
    "train_dataset_resolution = TextDataset(\n",
    "    tokenizer=tokenizer,\n",
    "    file_path='train_dataset_resolution.txt',\n",
    "    block_size=128\n",
    ")\n",
    "\n",
    "test_dataset_introduction = TextDataset(\n",
    "    tokenizer=tokenizer,\n",
    "    file_path='test_dataset_introduction.txt',\n",
    "    block_size=128\n",
    ")\n",
    "\n",
    "test_dataset_climax = TextDataset(\n",
    "    tokenizer=tokenizer,\n",
    "    file_path='test_dataset_climax.txt',\n",
    "    block_size=128\n",
    ")\n",
    "\n",
    "test_dataset_resolution = TextDataset(\n",
    "    tokenizer=tokenizer,\n",
    "    file_path='test_dataset_resolution.txt',\n",
    "    block_size=128\n",
    ")\n",
    "\n",
    "data_collator_introduction = DataCollatorForLanguageModeling(\n",
    "    tokenizer=tokenizer, mlm=False\n",
    ")\n",
    "\n",
    "data_collator_climax = DataCollatorForLanguageModeling(\n",
    "    tokenizer=tokenizer, mlm=False\n",
    ")\n",
    "\n",
    "data_collator_resolution = DataCollatorForLanguageModeling(\n",
    "    tokenizer=tokenizer, mlm=False\n",
    ")"
   ]
  },
  {
   "cell_type": "code",
   "execution_count": 3,
   "metadata": {},
   "outputs": [
    {
     "name": "stderr",
     "output_type": "stream",
     "text": [
      "c:\\Users\\asus\\anaconda3\\envs\\Transformers-310\\lib\\site-packages\\transformers\\models\\auto\\modeling_auto.py:1132: FutureWarning: The class `AutoModelWithLMHead` is deprecated and will be removed in a future version. Please use `AutoModelForCausalLM` for causal language models, `AutoModelForMaskedLM` for masked language models and `AutoModelForSeq2SeqLM` for encoder-decoder models.\n",
      "  warnings.warn(\n",
      "loading configuration file config.json from cache at C:\\Users\\asus/.cache\\huggingface\\hub\\models--indonesian-nlp--gpt2\\snapshots\\0995ba6b42b12180954cdc68b7e08fa7bc6daae6\\config.json\n",
      "Model config GPT2Config {\n",
      "  \"_name_or_path\": \"indonesian-nlp/gpt2\",\n",
      "  \"activation_function\": \"gelu_new\",\n",
      "  \"architectures\": [\n",
      "    \"GPT2LMHeadModel\"\n",
      "  ],\n",
      "  \"attn_pdrop\": 0.0,\n",
      "  \"bos_token_id\": 50256,\n",
      "  \"embd_pdrop\": 0.0,\n",
      "  \"eos_token_id\": 50256,\n",
      "  \"gradient_checkpointing\": false,\n",
      "  \"initializer_range\": 0.02,\n",
      "  \"layer_norm_epsilon\": 1e-05,\n",
      "  \"model_type\": \"gpt2\",\n",
      "  \"n_ctx\": 1024,\n",
      "  \"n_embd\": 768,\n",
      "  \"n_head\": 12,\n",
      "  \"n_inner\": null,\n",
      "  \"n_layer\": 12,\n",
      "  \"n_positions\": 1024,\n",
      "  \"reorder_and_upcast_attn\": false,\n",
      "  \"resid_pdrop\": 0.0,\n",
      "  \"scale_attn_by_inverse_layer_idx\": false,\n",
      "  \"scale_attn_weights\": true,\n",
      "  \"summary_activation\": null,\n",
      "  \"summary_first_dropout\": 0.1,\n",
      "  \"summary_proj_to_labels\": true,\n",
      "  \"summary_type\": \"cls_index\",\n",
      "  \"summary_use_proj\": true,\n",
      "  \"task_specific_params\": {\n",
      "    \"text-generation\": {\n",
      "      \"do_sample\": true,\n",
      "      \"max_length\": 50\n",
      "    }\n",
      "  },\n",
      "  \"torch_dtype\": \"float32\",\n",
      "  \"transformers_version\": \"4.24.0\",\n",
      "  \"use_cache\": true,\n",
      "  \"vocab_size\": 50257\n",
      "}\n",
      "\n",
      "loading weights file pytorch_model.bin from cache at C:\\Users\\asus/.cache\\huggingface\\hub\\models--indonesian-nlp--gpt2\\snapshots\\0995ba6b42b12180954cdc68b7e08fa7bc6daae6\\pytorch_model.bin\n",
      "All model checkpoint weights were used when initializing GPT2LMHeadModel.\n",
      "\n",
      "All the weights of GPT2LMHeadModel were initialized from the model checkpoint at indonesian-nlp/gpt2.\n",
      "If your task is similar to the task the model of the checkpoint was trained on, you can already use GPT2LMHeadModel for predictions without further training.\n",
      "loading configuration file config.json from cache at C:\\Users\\asus/.cache\\huggingface\\hub\\models--indonesian-nlp--gpt2\\snapshots\\0995ba6b42b12180954cdc68b7e08fa7bc6daae6\\config.json\n",
      "Model config GPT2Config {\n",
      "  \"_name_or_path\": \"indonesian-nlp/gpt2\",\n",
      "  \"activation_function\": \"gelu_new\",\n",
      "  \"architectures\": [\n",
      "    \"GPT2LMHeadModel\"\n",
      "  ],\n",
      "  \"attn_pdrop\": 0.0,\n",
      "  \"bos_token_id\": 50256,\n",
      "  \"embd_pdrop\": 0.0,\n",
      "  \"eos_token_id\": 50256,\n",
      "  \"gradient_checkpointing\": false,\n",
      "  \"initializer_range\": 0.02,\n",
      "  \"layer_norm_epsilon\": 1e-05,\n",
      "  \"model_type\": \"gpt2\",\n",
      "  \"n_ctx\": 1024,\n",
      "  \"n_embd\": 768,\n",
      "  \"n_head\": 12,\n",
      "  \"n_inner\": null,\n",
      "  \"n_layer\": 12,\n",
      "  \"n_positions\": 1024,\n",
      "  \"reorder_and_upcast_attn\": false,\n",
      "  \"resid_pdrop\": 0.0,\n",
      "  \"scale_attn_by_inverse_layer_idx\": false,\n",
      "  \"scale_attn_weights\": true,\n",
      "  \"summary_activation\": null,\n",
      "  \"summary_first_dropout\": 0.1,\n",
      "  \"summary_proj_to_labels\": true,\n",
      "  \"summary_type\": \"cls_index\",\n",
      "  \"summary_use_proj\": true,\n",
      "  \"task_specific_params\": {\n",
      "    \"text-generation\": {\n",
      "      \"do_sample\": true,\n",
      "      \"max_length\": 50\n",
      "    }\n",
      "  },\n",
      "  \"torch_dtype\": \"float32\",\n",
      "  \"transformers_version\": \"4.24.0\",\n",
      "  \"use_cache\": true,\n",
      "  \"vocab_size\": 50257\n",
      "}\n",
      "\n",
      "loading weights file pytorch_model.bin from cache at C:\\Users\\asus/.cache\\huggingface\\hub\\models--indonesian-nlp--gpt2\\snapshots\\0995ba6b42b12180954cdc68b7e08fa7bc6daae6\\pytorch_model.bin\n",
      "All model checkpoint weights were used when initializing GPT2LMHeadModel.\n",
      "\n",
      "All the weights of GPT2LMHeadModel were initialized from the model checkpoint at indonesian-nlp/gpt2.\n",
      "If your task is similar to the task the model of the checkpoint was trained on, you can already use GPT2LMHeadModel for predictions without further training.\n"
     ]
    }
   ],
   "source": [
    "from transformers import Trainer, TrainingArguments,AutoModelWithLMHead\n",
    "\n",
    "model = AutoModelWithLMHead.from_pretrained(\"indonesian-nlp/gpt2\")\n",
    "\n",
    "\n",
    "training_args_introduction = TrainingArguments(\n",
    "    output_dir=\"./gpt2-pendahuluan\", \n",
    "    overwrite_output_dir=True, \n",
    "    num_train_epochs=100,\n",
    "    per_device_train_batch_size=1,\n",
    "    per_device_eval_batch_size=2,\n",
    "    eval_steps=100, \n",
    "    save_steps=150, \n",
    "    warmup_steps=50,\n",
    "    prediction_loss_only=True\n",
    ")\n",
    "\n",
    "training_args_climax = TrainingArguments(\n",
    "    output_dir=\"./gpt2-klimaks\", \n",
    "    overwrite_output_dir=True, \n",
    "    num_train_epochs=100,\n",
    "    per_device_train_batch_size=1,\n",
    "    per_device_eval_batch_size=2,\n",
    "    eval_steps=100, \n",
    "    save_steps=150, \n",
    "    warmup_steps=50,\n",
    "    prediction_loss_only=True\n",
    ")\n",
    "\n",
    "training_args_resolution = TrainingArguments(\n",
    "    output_dir=\"./gpt2-penyelesaian\", \n",
    "    overwrite_output_dir=True, \n",
    "    num_train_epochs=100,\n",
    "    per_device_train_batch_size=1,\n",
    "    per_device_eval_batch_size=2,\n",
    "    eval_steps=100, \n",
    "    save_steps=150,\n",
    "    prediction_loss_only=True\n",
    ")\n",
    "\n",
    "\n",
    "model_introduction = AutoModelWithLMHead.from_pretrained(\"indonesian-nlp/gpt2\")\n",
    "\n",
    "trainer_introduction = Trainer(\n",
    "model=model_introduction,\n",
    "args=training_args_introduction,\n",
    "train_dataset=train_dataset_introduction,\n",
    "data_collator=data_collator_introduction\n",
    ")\n",
    "\n",
    "model_climax = AutoModelWithLMHead.from_pretrained(\"indonesian-nlp/gpt2\")\n",
    "\n",
    "trainer_climax = Trainer(\n",
    "model=model_climax,\n",
    "args=training_args_climax,\n",
    "train_dataset=train_dataset_climax,\n",
    "data_collator=data_collator_climax\n",
    ")\n",
    "\n",
    "model_resolution = AutoModelWithLMHead.from_pretrained(\"indonesian-nlp/gpt2\")\n",
    "\n",
    "trainer_resolution = Trainer(\n",
    "model=model_resolution,\n",
    "args=training_args_resolution,\n",
    "train_dataset=train_dataset_resolution,\n",
    "data_collator=data_collator_resolution\n",
    ")"
   ]
  },
  {
   "cell_type": "code",
   "execution_count": null,
   "metadata": {},
   "outputs": [],
   "source": []
  },
  {
   "cell_type": "code",
   "execution_count": 8,
   "metadata": {},
   "outputs": [
    {
     "name": "stderr",
     "output_type": "stream",
     "text": [
      "c:\\Users\\asus\\anaconda3\\envs\\Transformers-310\\lib\\site-packages\\transformers\\optimization.py:306: FutureWarning: This implementation of AdamW is deprecated and will be removed in a future version. Use the PyTorch implementation torch.optim.AdamW instead, or set `no_deprecation_warning=True` to disable this warning\n",
      "  warnings.warn(\n",
      "***** Running training *****\n",
      "  Num examples = 5\n",
      "  Num Epochs = 100\n",
      "  Instantaneous batch size per device = 1\n",
      "  Total train batch size (w. parallel, distributed & accumulation) = 1\n",
      "  Gradient Accumulation steps = 1\n",
      "  Total optimization steps = 500\n",
      "  Number of trainable parameters = 124439808\n",
      " 30%|███       | 150/500 [00:31<01:11,  4.90it/s]Saving model checkpoint to ./gpt2-pendahuluan\\checkpoint-150\n",
      "Configuration saved in ./gpt2-pendahuluan\\checkpoint-150\\config.json\n",
      "Model weights saved in ./gpt2-pendahuluan\\checkpoint-150\\pytorch_model.bin\n",
      " 60%|██████    | 300/500 [01:04<00:40,  4.88it/s]Saving model checkpoint to ./gpt2-pendahuluan\\checkpoint-300\n",
      "Configuration saved in ./gpt2-pendahuluan\\checkpoint-300\\config.json\n",
      "Model weights saved in ./gpt2-pendahuluan\\checkpoint-300\\pytorch_model.bin\n",
      " 90%|█████████ | 450/500 [01:38<00:10,  4.88it/s]Saving model checkpoint to ./gpt2-pendahuluan\\checkpoint-450\n",
      "Configuration saved in ./gpt2-pendahuluan\\checkpoint-450\\config.json\n",
      "Model weights saved in ./gpt2-pendahuluan\\checkpoint-450\\pytorch_model.bin\n",
      "100%|██████████| 500/500 [01:50<00:00,  4.87it/s]\n",
      "\n",
      "Training completed. Do not forget to share your model on huggingface.co/models =)\n",
      "\n",
      "\n",
      "100%|██████████| 500/500 [01:50<00:00,  4.51it/s]\n",
      "Saving model checkpoint to ./gpt2-pendahuluan\n",
      "Configuration saved in ./gpt2-pendahuluan\\config.json\n"
     ]
    },
    {
     "name": "stdout",
     "output_type": "stream",
     "text": [
      "{'loss': 0.3601, 'learning_rate': 0.0, 'epoch': 100.0}\n",
      "{'train_runtime': 110.9542, 'train_samples_per_second': 4.506, 'train_steps_per_second': 4.506, 'train_loss': 0.36014007568359374, 'epoch': 100.0}\n"
     ]
    },
    {
     "name": "stderr",
     "output_type": "stream",
     "text": [
      "Model weights saved in ./gpt2-pendahuluan\\pytorch_model.bin\n"
     ]
    }
   ],
   "source": [
    "trainer_introduction.train()\n",
    "trainer_introduction.save_model()"
   ]
  },
  {
   "cell_type": "code",
   "execution_count": 8,
   "metadata": {},
   "outputs": [
    {
     "name": "stderr",
     "output_type": "stream",
     "text": [
      "c:\\Users\\asus\\anaconda3\\envs\\Transformers-310\\lib\\site-packages\\transformers\\optimization.py:306: FutureWarning: This implementation of AdamW is deprecated and will be removed in a future version. Use the PyTorch implementation torch.optim.AdamW instead, or set `no_deprecation_warning=True` to disable this warning\n",
      "  warnings.warn(\n",
      "***** Running training *****\n",
      "  Num examples = 7\n",
      "  Num Epochs = 100\n",
      "  Instantaneous batch size per device = 1\n",
      "  Total train batch size (w. parallel, distributed & accumulation) = 1\n",
      "  Gradient Accumulation steps = 1\n",
      "  Total optimization steps = 700\n",
      "  Number of trainable parameters = 124439808\n",
      " 21%|██▏       | 150/700 [00:31<01:52,  4.88it/s]Saving model checkpoint to ./gpt2-klimaks\\checkpoint-150\n",
      "Configuration saved in ./gpt2-klimaks\\checkpoint-150\\config.json\n",
      "Model weights saved in ./gpt2-klimaks\\checkpoint-150\\pytorch_model.bin\n",
      " 43%|████▎     | 300/700 [01:05<01:21,  4.90it/s]Saving model checkpoint to ./gpt2-klimaks\\checkpoint-300\n",
      "Configuration saved in ./gpt2-klimaks\\checkpoint-300\\config.json\n",
      "Model weights saved in ./gpt2-klimaks\\checkpoint-300\\pytorch_model.bin\n",
      " 64%|██████▍   | 450/700 [01:39<00:53,  4.71it/s]Saving model checkpoint to ./gpt2-klimaks\\checkpoint-450\n",
      "Configuration saved in ./gpt2-klimaks\\checkpoint-450\\config.json\n",
      "Model weights saved in ./gpt2-klimaks\\checkpoint-450\\pytorch_model.bin\n",
      " 72%|███████▏  | 501/700 [01:52<00:41,  4.82it/s]"
     ]
    },
    {
     "name": "stdout",
     "output_type": "stream",
     "text": [
      "{'loss': 0.4455, 'learning_rate': 1.5384615384615387e-05, 'epoch': 71.43}\n"
     ]
    },
    {
     "name": "stderr",
     "output_type": "stream",
     "text": [
      " 86%|████████▌ | 600/700 [02:13<00:20,  4.87it/s]Saving model checkpoint to ./gpt2-klimaks\\checkpoint-600\n",
      "Configuration saved in ./gpt2-klimaks\\checkpoint-600\\config.json\n",
      "Model weights saved in ./gpt2-klimaks\\checkpoint-600\\pytorch_model.bin\n",
      "100%|██████████| 700/700 [02:36<00:00,  4.88it/s]\n",
      "\n",
      "Training completed. Do not forget to share your model on huggingface.co/models =)\n",
      "\n",
      "\n",
      "100%|██████████| 700/700 [02:36<00:00,  4.47it/s]\n",
      "Saving model checkpoint to ./gpt2-klimaks\n",
      "Configuration saved in ./gpt2-klimaks\\config.json\n"
     ]
    },
    {
     "name": "stdout",
     "output_type": "stream",
     "text": [
      "{'train_runtime': 156.7007, 'train_samples_per_second': 4.467, 'train_steps_per_second': 4.467, 'train_loss': 0.31831742227077486, 'epoch': 100.0}\n"
     ]
    },
    {
     "name": "stderr",
     "output_type": "stream",
     "text": [
      "Model weights saved in ./gpt2-klimaks\\pytorch_model.bin\n"
     ]
    }
   ],
   "source": [
    "trainer_climax.train()\n",
    "trainer_climax.save_model()"
   ]
  },
  {
   "cell_type": "code",
   "execution_count": 4,
   "metadata": {},
   "outputs": [
    {
     "name": "stderr",
     "output_type": "stream",
     "text": [
      "c:\\Users\\asus\\anaconda3\\envs\\Transformers-310\\lib\\site-packages\\transformers\\optimization.py:306: FutureWarning: This implementation of AdamW is deprecated and will be removed in a future version. Use the PyTorch implementation torch.optim.AdamW instead, or set `no_deprecation_warning=True` to disable this warning\n",
      "  warnings.warn(\n",
      "***** Running training *****\n",
      "  Num examples = 9\n",
      "  Num Epochs = 100\n",
      "  Instantaneous batch size per device = 1\n",
      "  Total train batch size (w. parallel, distributed & accumulation) = 1\n",
      "  Gradient Accumulation steps = 1\n",
      "  Total optimization steps = 900\n",
      "  Number of trainable parameters = 124439808\n",
      " 17%|█▋        | 150/900 [00:31<02:33,  4.90it/s]Saving model checkpoint to ./gpt2-penyelesaian\\checkpoint-150\n",
      "Configuration saved in ./gpt2-penyelesaian\\checkpoint-150\\config.json\n",
      "Model weights saved in ./gpt2-penyelesaian\\checkpoint-150\\pytorch_model.bin\n",
      " 33%|███▎      | 300/900 [01:04<02:02,  4.89it/s]Saving model checkpoint to ./gpt2-penyelesaian\\checkpoint-300\n",
      "Configuration saved in ./gpt2-penyelesaian\\checkpoint-300\\config.json\n",
      "Model weights saved in ./gpt2-penyelesaian\\checkpoint-300\\pytorch_model.bin\n",
      " 50%|█████     | 450/900 [01:38<01:32,  4.88it/s]Saving model checkpoint to ./gpt2-penyelesaian\\checkpoint-450\n",
      "Configuration saved in ./gpt2-penyelesaian\\checkpoint-450\\config.json\n",
      "Model weights saved in ./gpt2-penyelesaian\\checkpoint-450\\pytorch_model.bin\n",
      " 56%|█████▌    | 501/900 [01:51<01:22,  4.83it/s]"
     ]
    },
    {
     "name": "stdout",
     "output_type": "stream",
     "text": [
      "{'loss': 0.3675, 'learning_rate': 2.2222222222222223e-05, 'epoch': 55.56}\n"
     ]
    },
    {
     "name": "stderr",
     "output_type": "stream",
     "text": [
      " 67%|██████▋   | 600/900 [02:11<01:01,  4.87it/s]Saving model checkpoint to ./gpt2-penyelesaian\\checkpoint-600\n",
      "Configuration saved in ./gpt2-penyelesaian\\checkpoint-600\\config.json\n",
      "Model weights saved in ./gpt2-penyelesaian\\checkpoint-600\\pytorch_model.bin\n",
      " 83%|████████▎ | 750/900 [02:44<00:30,  4.90it/s]Saving model checkpoint to ./gpt2-penyelesaian\\checkpoint-750\n",
      "Configuration saved in ./gpt2-penyelesaian\\checkpoint-750\\config.json\n",
      "Model weights saved in ./gpt2-penyelesaian\\checkpoint-750\\pytorch_model.bin\n",
      "100%|██████████| 900/900 [03:18<00:00,  4.88it/s]Saving model checkpoint to ./gpt2-penyelesaian\\checkpoint-900\n",
      "Configuration saved in ./gpt2-penyelesaian\\checkpoint-900\\config.json\n",
      "Model weights saved in ./gpt2-penyelesaian\\checkpoint-900\\pytorch_model.bin\n",
      "\n",
      "\n",
      "Training completed. Do not forget to share your model on huggingface.co/models =)\n",
      "\n",
      "\n",
      "100%|██████████| 900/900 [03:21<00:00,  4.48it/s]\n",
      "Saving model checkpoint to ./gpt2-penyelesaian\n",
      "Configuration saved in ./gpt2-penyelesaian\\config.json\n"
     ]
    },
    {
     "name": "stdout",
     "output_type": "stream",
     "text": [
      "{'train_runtime': 201.0143, 'train_samples_per_second': 4.477, 'train_steps_per_second': 4.477, 'train_loss': 0.20496170070436265, 'epoch': 100.0}\n"
     ]
    },
    {
     "name": "stderr",
     "output_type": "stream",
     "text": [
      "Model weights saved in ./gpt2-penyelesaian\\pytorch_model.bin\n"
     ]
    }
   ],
   "source": [
    "trainer_resolution.train()\n",
    "trainer_resolution.save_model()"
   ]
  },
  {
   "cell_type": "code",
   "execution_count": 4,
   "metadata": {},
   "outputs": [],
   "source": [
    "from transformers import pipeline\n",
    "\n",
    "pendahuluan = pipeline('text-generation',model='./gpt2-pendahuluan/checkpoint-450/', tokenizer='indonesian-nlp/gpt2')\n",
    "\n",
    "klimaks = pipeline('text-generation',model='./gpt2-klimaks/checkpoint-600/', tokenizer='indonesian-nlp/gpt2')\n",
    "\n",
    "solusi = pipeline('text-generation',model='./gpt2-penyelesaian/checkpoint-900/', tokenizer='indonesian-nlp/gpt2')\n",
    "\n"
   ]
  },
  {
   "cell_type": "code",
   "execution_count": 5,
   "metadata": {},
   "outputs": [
    {
     "name": "stderr",
     "output_type": "stream",
     "text": [
      "c:\\Users\\asus\\anaconda3\\envs\\Transformers-310\\lib\\site-packages\\transformers\\models\\auto\\modeling_auto.py:1132: FutureWarning: The class `AutoModelWithLMHead` is deprecated and will be removed in a future version. Please use `AutoModelForCausalLM` for causal language models, `AutoModelForMaskedLM` for masked language models and `AutoModelForSeq2SeqLM` for encoder-decoder models.\n",
      "  warnings.warn(\n"
     ]
    }
   ],
   "source": [
    "from transformers import pipeline, AutoModelWithLMHead, AutoTokenizer\n",
    "\n",
    "tokenizer = AutoTokenizer.from_pretrained(\"indonesian-nlp/gpt2\")\n",
    "model_introduction = AutoModelWithLMHead.from_pretrained(\"./gpt2-pendahuluan/checkpoint-450\")\n",
    "model_climax = AutoModelWithLMHead.from_pretrained(\"./gpt2-klimaks/checkpoint-600\")\n",
    "model_resolution = AutoModelWithLMHead.from_pretrained(\"./gpt2-penyelesaian/checkpoint-900\")\n",
    "\n",
    "introduction_pipeline = pipeline(\"text-generation\", model=model_introduction, tokenizer=tokenizer)\n",
    "climax_pipeline = pipeline(\"text-generation\", model=model_climax, tokenizer=tokenizer)\n",
    "resolution_pipeline = pipeline(\"text-generation\", model=model_resolution, tokenizer=tokenizer)\n"
   ]
  },
  {
   "cell_type": "code",
   "execution_count": 27,
   "metadata": {},
   "outputs": [
    {
     "name": "stderr",
     "output_type": "stream",
     "text": [
      "Setting `pad_token_id` to `eos_token_id`:50256 for open-end generation.\n",
      "Setting `pad_token_id` to `eos_token_id`:50256 for open-end generation.\n"
     ]
    },
    {
     "name": "stdout",
     "output_type": "stream",
     "text": [
      "[{'generated_text': 'rina adalah seorang magician yang terkenal karena kemampuannya dalam membuat ilusi. Suatu hari, ia kehilangan kunci mobilnya dan harus membawanya ke sebuah gua untuk menemukan sebuah buku yang hilang.  Seorang wanita bernama Maya baru saja lulus kuliah dan memulai pekerjaan barunya sebagai editor buku di sebuah penerbit terkenal. Ia berusaha menyesuaikan diri dengan lingkungan kerja yang baru dan menemukan kehidupan di luar perkiraannya. Maya menemukan bahwa banyak orang yang mengalami masalah yang sama seperti yang dialami oleh mereka, dan mereka harus menemukan cara untuk keluar dari masalah tersebut secepat mungkin. Saksikan film-film seru lainnya hanya di bioskop kesayangan kamu ya!\\nFilm animasi produksi Pixar yang satu ini merupakan sekuel dari film animasi'}]\n"
     ]
    },
    {
     "name": "stderr",
     "output_type": "stream",
     "text": [
      "Setting `pad_token_id` to `eos_token_id`:50256 for open-end generation.\n"
     ]
    },
    {
     "name": "stdout",
     "output_type": "stream",
     "text": [
      "\n",
      "\n",
      "climax: \n",
      "[{'generated_text': 'rina adalah seorang magician yang sangat berbakat dan memiliki banyak penggemar di seluruh Indonesia. Suatu hari, sebuah kekuatan jahat muncul dan menyerang akademi, mengancam keberadaan Sinta, Lila, dan teman-temannya. Kekuatan jahat ini dipimpin oleh seorang penyihir jahat yang pernah diusir dari akademi karena melakukan praktik sihir hitam. Semenjak peristiwa itu, Sinta mulai merasa takut dan terancam keberadaannya.  Ketika Ariel mencari Sinta di hutan, dia dihadang oleh sekelompok penjahat yang menamakan diri sebagai Magicians. Ariel merasa sangat ketakutan dan ingin segera melarikan diri dari tempat itu. Namun, ketika dia tiba di sebuah desa yang bernama Desa Belimbing, Ariel terjebak dalam jebakan tersebut dan tidak memiliki pilihan lain untuk mencari tahu lebih banyak tentang asal-usulnya, serta untuk melindungi dirinya dan orang-orang yang ia sayangi dari kejahatan yang mungkin saja dilakukan oleh para penjahat tersebut. Saat dia berusaha untuk menggunakan kekuatannya untuk membantu masyarakat yang sedang mengalami masalah, ia menyadari bahwa kekuatan yang dimilikinya tidak lagi cukup kuat untuk mengimbangi jumlah penduduk yang terus meningkat di desa itu dan juga semakin sulit untuk beradaptasi dengan gaya hidup dan budaya yang berbeda dari masyarakat di kota tempat dia tinggal selama bertahun-tahun. Hal ini menyebabkan dia merasa kesulitan untuk menyeimbangkan antara bekerja sebagai seorang pengajar di sekolah dan mengurus anak-anak yang baru saja tumbuh dan belajar dari para penduduk desa. Akibatnya, timbulah'}]\n",
      "\n",
      "\n",
      "resolution: \n",
      "[{'generated_text': 'rina adalah seorang magician yang terkenal karena trik-trik sulapnya. Suatu hari, ia diundang ke rumah keluarga tersebut oleh teman masa kecilnya, dan keluarganya sangat terkejut dengan banyaknya keajaiban yang terjadi di rumah tersebut. Merasa iri dengan keluarganya, salah seorang dari mereka memutuskan untuk mencoba keberuntungan mereka di dunia sihir dengan mengikuti kursus sihir khusus yang dipandu oleh seorang penyihir tua. Meskipun merasa kesulitan, mereka akhirnya berhasil menyelesaikan kursus tersebut dan memperoleh banyak teman yang pada akhirnya membantu mereka dalam memenangkan kompetisi sihir tingkat nasional dan internasional.  Sinta dan teman-temannya harus melewati banyak rintangan dan bahaya di sepanjang perjalanan mereka, termasuk pertarungan dengan makhluk-makhluk buas dan jebakan-jebakan yang dipasang oleh musuh mereka. Namun, semua itu tidak menyurutkan semangat mereka untuk terus mencoba dan mencapai tujuan mereka yang sebenarnya, yaitu untuk menjadi penyihir yang kuat dan dihormati oleh semua orang di muka bumi ini. Setelah beberapa saat, akhirnya mereka menemukan jalan keluar dan kembali ke kota mereka masing-masing dengan perasaan yang lebih lega karena telah berhasil keluar dari dunia gelap dan menjadi lebih kuat dalam menghadapi berbagai tantangan yang diberikan oleh para penyihir jahat dan iblis yang berusaha untuk merebut kembali kerajaan mereka dari tangan para sihir tua dan menggantinya dengan kerajaan yang baru.   Alibaba adalah sebuah situs web dan periklanan online yang dimiliki dan dioperasikan oleh grup Alibaba. Pada Februari 2009, grup ini memiliki kantor pusat di Sunnyvale, California dan memiliki jaringan kantor cabang di lebih dari 120 negara dan benua dengan total karyawan sekitar 2.000 orang. Dengan pertumbuhan yang cepat di Asia, Alibaba telah menjadi salah satu perusahaan e-commerce nomor 1 di China dan nomor 5 di Hong Kong, Taiwan, Korea Selatan, Jepang dan Australia, serta nomor satu di Eropa dan Asia Tenggara. Selain itu, perusahaan ini juga telah memperoleh berbagai penghargaan dan pengakuan dari berbagai lembaga dan pemerintah, seperti \"The World’s Most Admired Companies\" oleh majalah Fortune dan \"Top 100 Employers of the Year\" dari majalah TIME Magazine pada tahun 2012 dan 2013. www.alice.com  Alibaba didirikan pada 1999 oleh Jack Dors, yang saat itu menjabat sebagai Chief Executive Officer (CEO) dari Alibaba Group. Alibaba memegang sebagian besar kepemilikan saham di Alibaba Holdings Inc., sebuah perusahaan induk yang juga mengoperasikan beberapa perusahaan lain di bidang teknologi finansial (financial technology) dan Internet of Things (IoT). Alibaba memiliki valuasi pasar sebesar $ 2,1 triliun pada akhir 2012, naik dari $ 1,2 triliun di tahun sebelumnya, menurut firma riset pasar IDXVentures. eMarketer memperkirakan bahwa jumlah pengguna internet di Indonesia akan mencapai 132 juta orang pada 2025, meningkat dari'}]\n"
     ]
    }
   ],
   "source": [
    "prompt = \"rina adalah seorang magician\"\n",
    "\n",
    "introduction_outputs = introduction_pipeline(\n",
    "    prompt,\n",
    "    max_length=128,\n",
    "    num_beams=5,\n",
    "    no_repeat_ngram_size=2,\n",
    "    early_stopping=True\n",
    ")\n",
    "\n",
    "print(introduction_outputs)\n",
    "\n",
    "climax_outputs = climax_pipeline(\n",
    "    prompt,\n",
    "    max_length=256,\n",
    "    num_beams=5,\n",
    "    no_repeat_ngram_size=2,\n",
    "    early_stopping=True\n",
    ")\n",
    "print(\"\\n\\nclimax: \")\n",
    "print(climax_outputs)\n",
    "\n",
    "resolution_outputs = resolution_pipeline(\n",
    "    prompt,\n",
    "    max_length=512,\n",
    "    num_beams=5,\n",
    "    no_repeat_ngram_size=2,\n",
    "    early_stopping=True\n",
    ")\n",
    "print(\"\\n\\nresolution: \")\n",
    "print(resolution_outputs)"
   ]
  },
  {
   "cell_type": "code",
   "execution_count": 33,
   "metadata": {},
   "outputs": [
    {
     "name": "stderr",
     "output_type": "stream",
     "text": [
      "Setting `pad_token_id` to `eos_token_id`:50256 for open-end generation.\n",
      "Setting `pad_token_id` to `eos_token_id`:50256 for open-end generation.\n",
      "Setting `pad_token_id` to `eos_token_id`:50256 for open-end generation.\n"
     ]
    },
    {
     "name": "stdout",
     "output_type": "stream",
     "text": [
      "pada suatu hari di sawahpada suatu hari di sawah, seorang petani sedang membajak sawahnya. Tiba-tiba muncul seekor harimau yang menyerangnya dari belakang. Petani itu merasa ketakutan dan segera bersembunyi di balik rimbunnya pepohonan. \"Alangkah terkejutnya aku ketika aku melihat harimau itu telah dalam keadaan berlutut di dalam sebuah lubang yang sangat dalam, kira-kira tingginya dua kali tinggi manusia dewasa. Aku takut apakah aku dapat menemukan jalan keluar dari lubang itu,\" kata petani itu. la menceritakan pengalamannya kepada teman-temannya. Mereka semua segera berlari ke tempat yang lebih aman untuk menyelamatkan diri. Namun, ketika mereka sedang berlari-lari, sebuah harimau besar muncul dari balik semak-semak dan menyerang mereka semua. harimau raksasa itu menyerang dari segala arah dan dapat dilihat dari jauh melalui celah-celah pagar yang membatasi kedua sisinya. Akibatnya, banyak dari mereka yang kehilangan tempat berlindung dan mengalami kesulitan untuk melakukan perjalanan ke lokasi yang jauh. Sementara itu, di luar hutan, ada seorang pemuda yang sedang mencari kayu untuk membuat perahu dari bambu. Ketika ia tiba di hutan yang gelap, ia merasa sangat haus dan ingin minum tetapi tidak ada perahu yang datang untuk menyelamatkannya. Kemudian, muncullah sebuah desa yang dipimpin oleh seorang raja yang arif dan bijaksana. Raja itu sangat memperhatikan rakyatnya dan selalu berusaha untuk memajukan kesejahteraan umum melalui pembangunan di segala bidang. Ia juga sering mengadakan sayembara untuk mencari pemudapada suatu hari di sawahpada suatu hari di sawah, seorang petani sedang membajak sawahnya. Tiba-tiba muncul seekor harimau yang menyerangnya dari belakang. Petani itu merasa ketakutan dan segera bersembunyi di balik rimbunnya pepohonan. \"Alangkah terkejutnya aku ketika aku melihat harimau itu telah dalam keadaan berlutut di dalam sebuah lubang yang sangat dalam, kira-kira tingginya dua kali tinggi manusia dewasa. Aku takut apakah aku dapat menemukan jalan keluar dari lubang itu,\" kata petani itu. la menceritakan pengalamannya kepada teman-temannya. Mereka semua segera berlari ke tempat yang lebih aman untuk menyelamatkan diri. Namun, ketika mereka sedang berlari-lari, sebuah harimau besar muncul dari balik semak-semak dan menyerang mereka semua. harimau raksasa itu menyerang dari segala arah dan dapat dilihat dari jauh melalui celah-celah pagar yang membatasi kedua sisinya. Akibatnya, banyak dari mereka yang kehilangan tempat berlindung dan mengalami kesulitan untuk melakukan perjalanan ke lokasi yang jauh. Sementara itu, di luar hutan, ada seorang pemuda yang sedang mencari kayu untuk membuat perahu dari bambu. Ketika ia tiba di hutan yang gelap, ia merasa sangat haus dan ingin minum tetapi tidak ada perahu yang datang untuk menyelamatkannya. Kemudian, muncullah sebuah desa yang dipimpin oleh seorang raja yang arif dan bijaksana. Raja itu sangat memperhatikan rakyatnya dan selalu berusaha untuk memajukan kesejahteraan umum melalui pembangunan di segala bidang. Ia juga sering mengadakan sayembara untuk mencari pemuda terbaik yang dapat menjadi raja di kerajaannya. Setelah beberapa saat, akhirnya pemuda itu memutuskan untuk bergabung dengan keluarga kerajaan dan mulai membangun sebuah kerajaan yang besar. Karena merasa telah memiliki cukup banyak pengikut, raja memerintahkan prajurit-prajuritnya untuk menjaga desa itu dan mengawasi setiap kegiatan yang dilakukan oleh penduduk desa. Selama beberapa hari, rakyat desa sangat gembira dengan kehadiran raja dan merasa bahwa ia sedang berada di tengah-tengah dunia yang baru mereka kenal. Keesokan harinya, sekelompok penjahat menyerang desa dan membunuh orang-orang yang dianggap sebagai pemilik sah desa tersebut. Penduduk desa melarikan diri dan memilih untuk tetap tinggal di kota mereka masing-masing. Dengan bantuan dari berbagai sumber daya yang ada, desa akhirnya menjadi semakin makmur dan penduduknya semakin sejahtera. Berkat kerja keras dan kebijaksanaan yang diambil oleh raja, masyarakat desa menjadi lebih percaya diri dalam menghadapi ancaman dari luar. Meskipun mengalami berbagai kesulitan dalam membangun kembali desa mereka, mereka akhirnya berhasil mendirikan sebuah negara yang kuat dan disegani oleh bangsa lain.Setelah beberapa lama, negara itu menjadi besar dan rakyatnya menjadi makmur. Bangsa itu kemudian dikenal sebagai \"Bangsa yang Adil dan Makmur\". Raja kemudian mengangkat kepala suku untuk mengawasi dan mengatur jalannya pemerintahan. Suku itu juga membentuk sebuah dewan yang beranggotakan hakim-hakim yang dipilih secara demokratis untuk memeriksa dan mengadili setiap orang yang dituduh melakukan sebuah tindak pidana.\n"
     ]
    }
   ],
   "source": [
    "prompt = \"pada suatu hari di sawah\"\n",
    "generated_text = prompt\n",
    "\n",
    "# Generate text using the introduction model\n",
    "introduction_outputs = introduction_pipeline(\n",
    "    generated_text,\n",
    "    max_length=128,\n",
    "    num_beams=5,\n",
    "    no_repeat_ngram_size=2,\n",
    "    early_stopping=True\n",
    ")\n",
    "generated_text += introduction_outputs[0]['generated_text']\n",
    "\n",
    "# Get the generated text from the introduction\n",
    "intro_generated_text = introduction_outputs[0]['generated_text']\n",
    "\n",
    "# Generate text using the climax model\n",
    "climax_prompt = prompt + intro_generated_text.replace(prompt, \"\")\n",
    "climax_outputs = climax_pipeline(\n",
    "    climax_prompt,\n",
    "    max_length=256,\n",
    "    num_beams=5,\n",
    "    no_repeat_ngram_size=2,\n",
    "    early_stopping=True\n",
    ")\n",
    "generated_text += climax_outputs[0]['generated_text'].replace(intro_generated_text, \"\")\n",
    "\n",
    "# Generate text using the resolution model\n",
    "resolution_outputs = resolution_pipeline(\n",
    "    generated_text,\n",
    "    max_length=512,\n",
    "    num_beams=5,\n",
    "    no_repeat_ngram_size=2,\n",
    "    early_stopping=True\n",
    ")\n",
    "generated_text += resolution_outputs[0]['generated_text']\n",
    "\n",
    "print(generated_text)"
   ]
  },
  {
   "cell_type": "code",
   "execution_count": 6,
   "metadata": {},
   "outputs": [
    {
     "name": "stderr",
     "output_type": "stream",
     "text": [
      "Setting `pad_token_id` to `eos_token_id`:50256 for open-end generation.\n"
     ]
    },
    {
     "name": "stdout",
     "output_type": "stream",
     "text": [
      "\n",
      "prompt: \n",
      "Seorang putri muda yang bernama Luna hidup dalam sebuah kerajaan besar yang dipimpin oleh raja dan ratu.\n"
     ]
    },
    {
     "name": "stderr",
     "output_type": "stream",
     "text": [
      "Setting `pad_token_id` to `eos_token_id`:50256 for open-end generation.\n"
     ]
    },
    {
     "name": "stdout",
     "output_type": "stream",
     "text": [
      "\n",
      "introduction: \n",
      "Seorang putri muda yang bernama Luna hidup dalam sebuah kerajaan besar yang dipimpin oleh raja dan ratu.Seorang putri muda yang bernama Luna hidup dalam sebuah kerajaan besar yang dipimpin oleh raja dan ratu. Luna adalah seorang gadis yang sangat menyukai petualangan. Suatu hari, dia mendengar kabar tentang sebuah hutan terlarang yang belum pernah dijelajahi oleh manusia sebelumnya. Dia merasa tertarik dan memutuskan untuk menjelajahi hutan itu sendirian. Namun, ketika dia tiba di tengah hutan, seorang prajurit muda dengan kekuatan magis muncul dan menyerang kerajaan itu. Dapatkah Luna menyelamatkan diri dari kekuatan jahat itu dan bergabung kembali dengan teman-temannya? Download Plot of the Game PSP di Android, iOS, dan Windows Phone Anda sekarang!\n",
      "Alien adalah sebuah film animasi komputer 3D Amerika Serikat yang diproduksi oleh Pixar\n"
     ]
    },
    {
     "name": "stderr",
     "output_type": "stream",
     "text": [
      "Setting `pad_token_id` to `eos_token_id`:50256 for open-end generation.\n"
     ]
    },
    {
     "name": "stdout",
     "output_type": "stream",
     "text": [
      "\n",
      "climax: \n",
      "Seorang putri muda yang bernama Luna hidup dalam sebuah kerajaan besar yang dipimpin oleh raja dan ratu.Seorang putri muda yang bernama Luna hidup dalam sebuah kerajaan besar yang dipimpin oleh raja dan ratu. Luna adalah seorang gadis yang sangat menyukai petualangan. Suatu hari, dia mendengar kabar tentang sebuah hutan terlarang yang belum pernah dijelajahi oleh manusia sebelumnya. Dia merasa tertarik dan memutuskan untuk menjelajahi hutan itu sendirian. Namun, ketika dia tiba di tengah hutan, seorang prajurit muda dengan kekuatan magis muncul dan menyerang kerajaan itu. Dapatkah Luna menyelamatkan diri dari kekuatan jahat itu dan bergabung kembali dengan teman-temannya? Download Plot of the Game PSP di Android, iOS, dan Windows Phone Anda sekarang!\n",
      "Alien adalah sebuah film animasi komputer 3D Amerika Serikat yang diproduksi oleh Pixar Animation Studios dan dirilis oleh Walt Disney Pictures. Film ini berdasarkan pada novel dengan nama yang sama karya penulis Amerika Utara Peter Jackson dan disutradarai oleh David Benioff dan D.B. Weiss dan ditulis oleh Jon Favreau dan Doug McGrath, serta dibintangi oleh Kate Winslet, Andy Serkis, Robert Downey Jr., dan Noah Wallace. Pada tahun 2009, film ini dirilis di Indonesia dan mendapatkan ulasan yang beragam dari para kritikus film. Selain itu, pada tahun 2010, sebuah sekuel film dirilis, yang merupakan sekuel dari film sebelumnya, yaitu Alien: Alien vs Predator, dengan penambahan beberapa fitur baru dan perbaikan bug\n",
      "\n",
      "resolution: \n",
      "Seorang putri muda yang bernama Luna hidup dalam sebuah kerajaan besar yang dipimpin oleh raja dan ratu.Seorang putri muda yang bernama Luna hidup dalam sebuah kerajaan besar yang dipimpin oleh raja dan ratu. Luna adalah seorang gadis yang sangat menyukai petualangan. Suatu hari, dia mendengar kabar tentang sebuah hutan terlarang yang belum pernah dijelajahi oleh manusia sebelumnya. Dia merasa tertarik dan memutuskan untuk menjelajahi hutan itu sendirian. Namun, ketika dia tiba di tengah hutan, seorang prajurit muda dengan kekuatan magis muncul dan menyerang kerajaan itu. Dapatkah Luna menyelamatkan diri dari kekuatan jahat itu dan bergabung kembali dengan teman-temannya? Download Plot of the Game PSP di Android, iOS, dan Windows Phone Anda sekarang!\n",
      "Alien adalah sebuah film animasi komputer 3D Amerika Serikat yang diproduksi oleh Pixar Animation Studios dan dirilis oleh Walt Disney Pictures. Film ini berdasarkan pada novel dengan nama yang sama karya penulis Amerika Utara Peter Jackson dan disutradarai oleh David Benioff dan D.B. Weiss dan ditulis oleh Jon Favreau dan Doug McGrath, serta dibintangi oleh Kate Winslet, Andy Serkis, Robert Downey Jr., dan Noah Wallace. Pada tahun 2009, film ini dirilis di Indonesia dan mendapatkan ulasan yang beragam dari para kritikus film. Selain itu, pada tahun 2010, sebuah sekuel film dirilis, yang merupakan sekuel dari film sebelumnya, yaitu Alien: Alien vs Predator, dengan penambahan beberapa fitur baru dan perbaikan bugSeorang putri muda yang bernama Luna hidup dalam sebuah kerajaan besar yang dipimpin oleh raja dan ratu.Seorang putri muda yang bernama Luna hidup dalam sebuah kerajaan besar yang dipimpin oleh raja dan ratu. Luna adalah seorang gadis yang sangat menyukai petualangan. Suatu hari, dia mendengar kabar tentang sebuah hutan terlarang yang belum pernah dijelajahi oleh manusia sebelumnya. Dia merasa tertarik dan memutuskan untuk menjelajahi hutan itu sendirian. Namun, ketika dia tiba di tengah hutan, seorang prajurit muda dengan kekuatan magis muncul dan menyerang kerajaan itu. Dapatkah Luna menyelamatkan diri dari kekuatan jahat itu dan bergabung kembali dengan teman-temannya? Download Plot of the Game PSP di Android, iOS, dan Windows Phone Anda sekarang!\n",
      "Alien adalah sebuah film animasi komputer 3D Amerika Serikat yang diproduksi oleh Pixar Animation Studios dan dirilis oleh Walt Disney Pictures. Film ini berdasarkan pada novel dengan nama yang sama karya penulis Amerika Utara Peter Jackson dan disutradarai oleh David Benioff dan D.B. Weiss dan ditulis oleh Jon Favreau dan Doug McGrath, serta dibintangi oleh Kate Winslet, Andy Serkis, Robert Downey Jr., dan Noah Wallace. Pada tahun 2009, film ini dirilis di Indonesia dan mendapatkan ulasan yang beragam dari para kritikus film. Selain itu, pada tahun 2010, sebuah sekuel film dirilis, yang merupakan sekuel dari film sebelumnya, yaitu Alien: Alien vs Predator, dengan penambahan beberapa fitur baru dan perbaikan bug pada film tersebut. Sejak dirilis pada tanggal 19 Februari 2011, video musik untuk lagu utama telah dirilis dan telah ditonton lebih dari 1,5 juta kali di situs web musik digital dan streaming. Lagu utama berjudul \"I Want You\" masuk dalam lima besar di berbagai tangga lagu di beberapa negara, termasuk di Britania Raya dan Irlandia. Video musik tersebut mendapatkan sambutan yang hangat dari penggemar di seluruh dunia dan menjadi salah satu dari beberapa video yang paling banyak diputar di YouTube pada minggu pertama penayangannya, menurut sebuah survei yang dilakukan oleh Pew Research pada bulan April 2011.\n",
      "Pada tahun 2012, Disney mengumumkan bahwa mereka akan memproduksi film layar lebar tentang alien dan sekuelnya dalam waktu lima tahun ke depan dan berencana untuk mempekerjakan 20.000 orang untuk menulis skenario dan menyutradarainya. Hingga saat ini, skenario tersebut masih dalam tahap perencanaan dan belum ada keputusan resmi tentang lokasi dan waktu yang diperlukan untuk memulai proses produksi. Berdasarkan informasi dari wawancara dengan para penggemar dan sumber-sumber yang tidak disebutkan namanya, \"Aku sangat senang bahwa aku akhirnya menemukan orang-orang yang tepat untuk mengerjakan proyek ini dan aku sangat berterima kasih untuk dukungan dan kerja keras mereka selama proses pembuatan film.\" Meskipun tidak ada informasi yang jelas tentang tanggal rilis untuk sekuel tersebut,\n",
      "\n",
      "\n",
      "\n",
      "output: \n",
      "Seorang putri muda yang bernama Luna hidup dalam sebuah kerajaan besar yang dipimpin oleh raja dan ratu.Seorang putri muda yang bernama Luna hidup dalam sebuah kerajaan besar yang dipimpin oleh raja dan ratu. Luna adalah seorang gadis yang sangat menyukai petualangan. Suatu hari, dia mendengar kabar tentang sebuah hutan terlarang yang belum pernah dijelajahi oleh manusia sebelumnya. Dia merasa tertarik dan memutuskan untuk menjelajahi hutan itu sendirian. Namun, ketika dia tiba di tengah hutan, seorang prajurit muda dengan kekuatan magis muncul dan menyerang kerajaan itu. Dapatkah Luna menyelamatkan diri dari kekuatan jahat itu dan bergabung kembali dengan teman-temannya? Download Plot of the Game PSP di Android, iOS, dan Windows Phone Anda sekarang!\n",
      "Alien adalah sebuah film animasi komputer 3D Amerika Serikat yang diproduksi oleh Pixar Animation Studios dan dirilis oleh Walt Disney Pictures. Film ini berdasarkan pada novel dengan nama yang sama karya penulis Amerika Utara Peter Jackson dan disutradarai oleh David Benioff dan D.B. Weiss dan ditulis oleh Jon Favreau dan Doug McGrath, serta dibintangi oleh Kate Winslet, Andy Serkis, Robert Downey Jr., dan Noah Wallace. Pada tahun 2009, film ini dirilis di Indonesia dan mendapatkan ulasan yang beragam dari para kritikus film. Selain itu, pada tahun 2010, sebuah sekuel film dirilis, yang merupakan sekuel dari film sebelumnya, yaitu Alien: Alien vs Predator, dengan penambahan beberapa fitur baru dan perbaikan bugSeorang putri muda yang bernama Luna hidup dalam sebuah kerajaan besar yang dipimpin oleh raja dan ratu.Seorang putri muda yang bernama Luna hidup dalam sebuah kerajaan besar yang dipimpin oleh raja dan ratu. Luna adalah seorang gadis yang sangat menyukai petualangan. Suatu hari, dia mendengar kabar tentang sebuah hutan terlarang yang belum pernah dijelajahi oleh manusia sebelumnya. Dia merasa tertarik dan memutuskan untuk menjelajahi hutan itu sendirian. Namun, ketika dia tiba di tengah hutan, seorang prajurit muda dengan kekuatan magis muncul dan menyerang kerajaan itu. Dapatkah Luna menyelamatkan diri dari kekuatan jahat itu dan bergabung kembali dengan teman-temannya? Download Plot of the Game PSP di Android, iOS, dan Windows Phone Anda sekarang!\n",
      "Alien adalah sebuah film animasi komputer 3D Amerika Serikat yang diproduksi oleh Pixar Animation Studios dan dirilis oleh Walt Disney Pictures. Film ini berdasarkan pada novel dengan nama yang sama karya penulis Amerika Utara Peter Jackson dan disutradarai oleh David Benioff dan D.B. Weiss dan ditulis oleh Jon Favreau dan Doug McGrath, serta dibintangi oleh Kate Winslet, Andy Serkis, Robert Downey Jr., dan Noah Wallace. Pada tahun 2009, film ini dirilis di Indonesia dan mendapatkan ulasan yang beragam dari para kritikus film. Selain itu, pada tahun 2010, sebuah sekuel film dirilis, yang merupakan sekuel dari film sebelumnya, yaitu Alien: Alien vs Predator, dengan penambahan beberapa fitur baru dan perbaikan bug pada film tersebut. Sejak dirilis pada tanggal 19 Februari 2011, video musik untuk lagu utama telah dirilis dan telah ditonton lebih dari 1,5 juta kali di situs web musik digital dan streaming. Lagu utama berjudul \"I Want You\" masuk dalam lima besar di berbagai tangga lagu di beberapa negara, termasuk di Britania Raya dan Irlandia. Video musik tersebut mendapatkan sambutan yang hangat dari penggemar di seluruh dunia dan menjadi salah satu dari beberapa video yang paling banyak diputar di YouTube pada minggu pertama penayangannya, menurut sebuah survei yang dilakukan oleh Pew Research pada bulan April 2011.\n",
      "Pada tahun 2012, Disney mengumumkan bahwa mereka akan memproduksi film layar lebar tentang alien dan sekuelnya dalam waktu lima tahun ke depan dan berencana untuk mempekerjakan 20.000 orang untuk menulis skenario dan menyutradarainya. Hingga saat ini, skenario tersebut masih dalam tahap perencanaan dan belum ada keputusan resmi tentang lokasi dan waktu yang diperlukan untuk memulai proses produksi. Berdasarkan informasi dari wawancara dengan para penggemar dan sumber-sumber yang tidak disebutkan namanya, \"Aku sangat senang bahwa aku akhirnya menemukan orang-orang yang tepat untuk mengerjakan proyek ini dan aku sangat berterima kasih untuk dukungan dan kerja keras mereka selama proses pembuatan film.\" Meskipun tidak ada informasi yang jelas tentang tanggal rilis untuk sekuel tersebut,\n"
     ]
    }
   ],
   "source": [
    "prompt = \"Seorang putri muda yang bernama Luna hidup dalam sebuah kerajaan besar yang dipimpin oleh raja dan ratu.\"\n",
    "generated_text = prompt\n",
    "print (\"\\nprompt: \")\n",
    "print (generated_text)\n",
    "\n",
    "# Generate text using the introduction model\n",
    "introduction_outputs = introduction_pipeline(\n",
    "    generated_text,\n",
    "    max_length=128,\n",
    "    num_beams=5,\n",
    "    no_repeat_ngram_size=2,\n",
    "    early_stopping=True\n",
    ")\n",
    "generated_text += introduction_outputs[0]['generated_text']\n",
    "print (\"\\nintroduction: \")\n",
    "print (generated_text)\n",
    "\n",
    "# Get the generated text from the introduction\n",
    "intro_generated_text = introduction_outputs[0]['generated_text']\n",
    "\n",
    "# Generate text using the climax model\n",
    "climax_prompt = prompt + intro_generated_text.replace(prompt, \"\")\n",
    "climax_outputs = climax_pipeline(\n",
    "    climax_prompt,\n",
    "    max_length=256,\n",
    "    num_beams=5,\n",
    "    no_repeat_ngram_size=2,\n",
    "    early_stopping=True\n",
    ")\n",
    "generated_text += climax_outputs[0]['generated_text'].replace(intro_generated_text, \"\")\n",
    "print (\"\\nclimax: \")\n",
    "print (generated_text)\n",
    "\n",
    "# Generate text using the resolution model\n",
    "resolution_outputs = resolution_pipeline(\n",
    "    generated_text,\n",
    "    max_length=512,\n",
    "    num_beams=5,\n",
    "    no_repeat_ngram_size=2,\n",
    "    early_stopping=True\n",
    ")\n",
    "generated_text += resolution_outputs[0]['generated_text']\n",
    "print (\"\\nresolution: \")\n",
    "print (generated_text)\n",
    "\n",
    "print (\"\\n\\n\\noutput: \")\n",
    "print(generated_text)"
   ]
  },
  {
   "cell_type": "code",
   "execution_count": 7,
   "metadata": {},
   "outputs": [
    {
     "name": "stderr",
     "output_type": "stream",
     "text": [
      "Setting `pad_token_id` to `eos_token_id`:50256 for open-end generation.\n"
     ]
    },
    {
     "name": "stdout",
     "output_type": "stream",
     "text": [
      "\n",
      "prompt: \n",
      "Seorang putri muda yang bernama Luna hidup dalam sebuah kerajaan besar yang dipimpin oleh raja dan ratu.\n"
     ]
    },
    {
     "name": "stderr",
     "output_type": "stream",
     "text": [
      "Setting `pad_token_id` to `eos_token_id`:50256 for open-end generation.\n"
     ]
    },
    {
     "name": "stdout",
     "output_type": "stream",
     "text": [
      "\n",
      "introduction: \n",
      "Seorang putri muda yang bernama Luna hidup dalam sebuah kerajaan besar yang dipimpin oleh raja dan ratu.Seorang putri muda yang bernama Luna hidup dalam sebuah kerajaan besar yang dipimpin oleh raja dan ratu. Luna adalah seorang gadis yang sangat menyukai petualangan. Suatu hari, dia mendengar kabar tentang sebuah hutan terlarang yang belum pernah dijelajahi oleh manusia sebelumnya. Dia merasa tertarik dan memutuskan untuk menjelajahi hutan itu sendirian. Namun, ketika dia tiba di sana, sebuah badai menghadang di depan matanya dan memaksanya untuk bertahan hidup dengan cara yang paling aman dan terbaik yang bisa dia lakukan.  Seorang wanita muda bernama Maya baru saja lulus kuliah dan memulai pekerjaan barunya sebagai editor buku di sebuah penerbit terkenal. Maya sedang mencari penerbit yang tepat untuk menerbitkan bukunya, tetapi dia tidak tahu harus mulai dari mana.\n"
     ]
    },
    {
     "name": "stderr",
     "output_type": "stream",
     "text": [
      "Setting `pad_token_id` to `eos_token_id`:50256 for open-end generation.\n"
     ]
    },
    {
     "name": "stdout",
     "output_type": "stream",
     "text": [
      "\n",
      "climax: \n",
      "Seorang putri muda yang bernama Luna hidup dalam sebuah kerajaan besar yang dipimpin oleh raja dan ratu.Seorang putri muda yang bernama Luna hidup dalam sebuah kerajaan besar yang dipimpin oleh raja dan ratu. Luna adalah seorang gadis yang sangat menyukai petualangan. Suatu hari, dia mendengar kabar tentang sebuah hutan terlarang yang belum pernah dijelajahi oleh manusia sebelumnya. Dia merasa tertarik dan memutuskan untuk menjelajahi hutan itu sendirian. Namun, ketika dia tiba di sana, sebuah badai menghadang di depan matanya dan memaksanya untuk bertahan hidup dengan cara yang paling aman dan terbaik yang bisa dia lakukan.  Seorang wanita muda bernama Maya baru saja lulus kuliah dan memulai pekerjaan barunya sebagai editor buku di sebuah penerbit terkenal. Maya sedang mencari penerbit yang tepat untuk menerbitkan bukunya, tetapi dia tidak tahu harus mulai dari mana. Hal ini menyebabkan dia merasa kesulitan untuk memulai bisnis barunya dan pada akhirnya membuatnya merasa semakin tertekan dan semakin sulit untuk fokus pada pekerjaannya saat dia terus-menerus merasa gugup dan cemas setiap kali dia melangkah keluar dari gedung penerbitnya.  Maya segera menyadari bahwa ada sesuatu yang salah dengan dirinya dan dia harus berhati-hati dalam mengambil keputusan. Sesuatu yang tidak dia ketahui tentang dunia luar biasanya dan kehidupan orang-orang yang tinggal di dalamnya juga berada di luar jangkauannya. Selain itu, Maya juga mulai merasa takut dan terancam oleh makhluk-makhluk gaib yang berkeliaran di sekitar tempat dia tinggal dan berusaha untuk menguasai mereka. Untuk membantu mengatasi masalah-masalah yang dihadapi Maya, seorang penulis\n",
      "\n",
      "resolution: \n",
      "Seorang putri muda yang bernama Luna hidup dalam sebuah kerajaan besar yang dipimpin oleh raja dan ratu.Seorang putri muda yang bernama Luna hidup dalam sebuah kerajaan besar yang dipimpin oleh raja dan ratu. Luna adalah seorang gadis yang sangat menyukai petualangan. Suatu hari, dia mendengar kabar tentang sebuah hutan terlarang yang belum pernah dijelajahi oleh manusia sebelumnya. Dia merasa tertarik dan memutuskan untuk menjelajahi hutan itu sendirian. Namun, ketika dia tiba di sana, sebuah badai menghadang di depan matanya dan memaksanya untuk bertahan hidup dengan cara yang paling aman dan terbaik yang bisa dia lakukan.  Seorang wanita muda bernama Maya baru saja lulus kuliah dan memulai pekerjaan barunya sebagai editor buku di sebuah penerbit terkenal. Maya sedang mencari penerbit yang tepat untuk menerbitkan bukunya, tetapi dia tidak tahu harus mulai dari mana. Hal ini menyebabkan dia merasa kesulitan untuk memulai bisnis barunya dan pada akhirnya membuatnya merasa semakin tertekan dan semakin sulit untuk fokus pada pekerjaannya saat dia terus-menerus merasa gugup dan cemas setiap kali dia melangkah keluar dari gedung penerbitnya.  Maya segera menyadari bahwa ada sesuatu yang salah dengan dirinya dan dia harus berhati-hati dalam mengambil keputusan. Sesuatu yang tidak dia ketahui tentang dunia luar biasanya dan kehidupan orang-orang yang tinggal di dalamnya juga berada di luar jangkauannya. Selain itu, Maya juga mulai merasa takut dan terancam oleh makhluk-makhluk gaib yang berkeliaran di sekitar tempat dia tinggal dan berusaha untuk menguasai mereka. Untuk membantu mengatasi masalah-masalah yang dihadapi Maya, seorang penulisSeorang putri muda yang bernama Luna hidup dalam sebuah kerajaan besar yang dipimpin oleh raja dan ratu.Seorang putri muda yang bernama Luna hidup dalam sebuah kerajaan besar yang dipimpin oleh raja dan ratu. Luna adalah seorang gadis yang sangat menyukai petualangan. Suatu hari, dia mendengar kabar tentang sebuah hutan terlarang yang belum pernah dijelajahi oleh manusia sebelumnya. Dia merasa tertarik dan memutuskan untuk menjelajahi hutan itu sendirian. Namun, ketika dia tiba di sana, sebuah badai menghadang di depan matanya dan memaksanya untuk bertahan hidup dengan cara yang paling aman dan terbaik yang bisa dia lakukan.  Seorang wanita muda bernama Maya baru saja lulus kuliah dan memulai pekerjaan barunya sebagai editor buku di sebuah penerbit terkenal. Maya sedang mencari penerbit yang tepat untuk menerbitkan bukunya, tetapi dia tidak tahu harus mulai dari mana. Hal ini menyebabkan dia merasa kesulitan untuk memulai bisnis barunya dan pada akhirnya membuatnya merasa semakin tertekan dan semakin sulit untuk fokus pada pekerjaannya saat dia terus-menerus merasa gugup dan cemas setiap kali dia melangkah keluar dari gedung penerbitnya.  Maya segera menyadari bahwa ada sesuatu yang salah dengan dirinya dan dia harus berhati-hati dalam mengambil keputusan. Sesuatu yang tidak dia ketahui tentang dunia luar biasanya dan kehidupan orang-orang yang tinggal di dalamnya juga berada di luar jangkauannya. Selain itu, Maya juga mulai merasa takut dan terancam oleh makhluk-makhluk gaib yang berkeliaran di sekitar tempat dia tinggal dan berusaha untuk menguasai mereka. Untuk membantu mengatasi masalah-masalah yang dihadapi Maya, seorang penulis buku anak-anak bernama Tara melakukan perjalanan ke seluruh dunia untuk mencari tahu lebih banyak tentang makhluk gaib dan kekuatan magis yang ada di dunia tersebut. Setelah mengikuti beberapa sesi meditasi, Tara menemukan bahwa kekuatan-kekuatan tersebut berasal dari sebuah keluarga yang telah lama berpisah dan telah kehilangan anggota keluarga mereka secara misterius. Dengan bantuan dari teman-teman yang mengetahui tentang keluarga tersebut, mereka mulai mencari cara untuk berkomunikasi satu sama lain dan menemukan kekuatan yang lebih besar dalam diri mereka sendiri. Meskipun mengalami berbagai kendala dan rintangan, akhirnya Tara dan anggota keluarganya menemukan jalan keluar dan mereka sekarang telah kembali ke rumah mereka masing-masing dengan keadaan yang jauh lebih baik daripada sebelumnya....Maya bertemu dengan seorang penyihir tua yang dikenal sebagai Master of Magic. Master tersebut menyarankan Maya untuk mengambil bagian dalam ritual pemanggilan roh-roh jahat dan meminta saran dari dia tentang apa yang harus dilakukan jika mereka mengalami kesulitan dalam mempelajari mantra-mantra baru atau untuk meminta bantuan lebih lanjut tentang cara-cara untuk menyembuhkan luka-luka mereka dengan menggunakan ramuan-ramuan yang dia temukan di dalam buku-buku sihir miliknya. Tanpa mengetahui lebih jauh tentang mantra dan kemampuan magis dari sang Master dan untuk menghindari kebingungan yang semakin menjadi-jadi akibat kesalahpahaman yang dibuat-buat oleh para penyihir,\n",
      "\n",
      "\n",
      "\n",
      "output: \n",
      "Seorang putri muda yang bernama Luna hidup dalam sebuah kerajaan besar yang dipimpin oleh raja dan ratu.Seorang putri muda yang bernama Luna hidup dalam sebuah kerajaan besar yang dipimpin oleh raja dan ratu. Luna adalah seorang gadis yang sangat menyukai petualangan. Suatu hari, dia mendengar kabar tentang sebuah hutan terlarang yang belum pernah dijelajahi oleh manusia sebelumnya. Dia merasa tertarik dan memutuskan untuk menjelajahi hutan itu sendirian. Namun, ketika dia tiba di sana, sebuah badai menghadang di depan matanya dan memaksanya untuk bertahan hidup dengan cara yang paling aman dan terbaik yang bisa dia lakukan.  Seorang wanita muda bernama Maya baru saja lulus kuliah dan memulai pekerjaan barunya sebagai editor buku di sebuah penerbit terkenal. Maya sedang mencari penerbit yang tepat untuk menerbitkan bukunya, tetapi dia tidak tahu harus mulai dari mana. Hal ini menyebabkan dia merasa kesulitan untuk memulai bisnis barunya dan pada akhirnya membuatnya merasa semakin tertekan dan semakin sulit untuk fokus pada pekerjaannya saat dia terus-menerus merasa gugup dan cemas setiap kali dia melangkah keluar dari gedung penerbitnya.  Maya segera menyadari bahwa ada sesuatu yang salah dengan dirinya dan dia harus berhati-hati dalam mengambil keputusan. Sesuatu yang tidak dia ketahui tentang dunia luar biasanya dan kehidupan orang-orang yang tinggal di dalamnya juga berada di luar jangkauannya. Selain itu, Maya juga mulai merasa takut dan terancam oleh makhluk-makhluk gaib yang berkeliaran di sekitar tempat dia tinggal dan berusaha untuk menguasai mereka. Untuk membantu mengatasi masalah-masalah yang dihadapi Maya, seorang penulisSeorang putri muda yang bernama Luna hidup dalam sebuah kerajaan besar yang dipimpin oleh raja dan ratu.Seorang putri muda yang bernama Luna hidup dalam sebuah kerajaan besar yang dipimpin oleh raja dan ratu. Luna adalah seorang gadis yang sangat menyukai petualangan. Suatu hari, dia mendengar kabar tentang sebuah hutan terlarang yang belum pernah dijelajahi oleh manusia sebelumnya. Dia merasa tertarik dan memutuskan untuk menjelajahi hutan itu sendirian. Namun, ketika dia tiba di sana, sebuah badai menghadang di depan matanya dan memaksanya untuk bertahan hidup dengan cara yang paling aman dan terbaik yang bisa dia lakukan.  Seorang wanita muda bernama Maya baru saja lulus kuliah dan memulai pekerjaan barunya sebagai editor buku di sebuah penerbit terkenal. Maya sedang mencari penerbit yang tepat untuk menerbitkan bukunya, tetapi dia tidak tahu harus mulai dari mana. Hal ini menyebabkan dia merasa kesulitan untuk memulai bisnis barunya dan pada akhirnya membuatnya merasa semakin tertekan dan semakin sulit untuk fokus pada pekerjaannya saat dia terus-menerus merasa gugup dan cemas setiap kali dia melangkah keluar dari gedung penerbitnya.  Maya segera menyadari bahwa ada sesuatu yang salah dengan dirinya dan dia harus berhati-hati dalam mengambil keputusan. Sesuatu yang tidak dia ketahui tentang dunia luar biasanya dan kehidupan orang-orang yang tinggal di dalamnya juga berada di luar jangkauannya. Selain itu, Maya juga mulai merasa takut dan terancam oleh makhluk-makhluk gaib yang berkeliaran di sekitar tempat dia tinggal dan berusaha untuk menguasai mereka. Untuk membantu mengatasi masalah-masalah yang dihadapi Maya, seorang penulis buku anak-anak bernama Tara melakukan perjalanan ke seluruh dunia untuk mencari tahu lebih banyak tentang makhluk gaib dan kekuatan magis yang ada di dunia tersebut. Setelah mengikuti beberapa sesi meditasi, Tara menemukan bahwa kekuatan-kekuatan tersebut berasal dari sebuah keluarga yang telah lama berpisah dan telah kehilangan anggota keluarga mereka secara misterius. Dengan bantuan dari teman-teman yang mengetahui tentang keluarga tersebut, mereka mulai mencari cara untuk berkomunikasi satu sama lain dan menemukan kekuatan yang lebih besar dalam diri mereka sendiri. Meskipun mengalami berbagai kendala dan rintangan, akhirnya Tara dan anggota keluarganya menemukan jalan keluar dan mereka sekarang telah kembali ke rumah mereka masing-masing dengan keadaan yang jauh lebih baik daripada sebelumnya....Maya bertemu dengan seorang penyihir tua yang dikenal sebagai Master of Magic. Master tersebut menyarankan Maya untuk mengambil bagian dalam ritual pemanggilan roh-roh jahat dan meminta saran dari dia tentang apa yang harus dilakukan jika mereka mengalami kesulitan dalam mempelajari mantra-mantra baru atau untuk meminta bantuan lebih lanjut tentang cara-cara untuk menyembuhkan luka-luka mereka dengan menggunakan ramuan-ramuan yang dia temukan di dalam buku-buku sihir miliknya. Tanpa mengetahui lebih jauh tentang mantra dan kemampuan magis dari sang Master dan untuk menghindari kebingungan yang semakin menjadi-jadi akibat kesalahpahaman yang dibuat-buat oleh para penyihir,\n"
     ]
    }
   ],
   "source": [
    "prompt = \"Seorang putri muda yang bernama Luna hidup dalam sebuah kerajaan besar yang dipimpin oleh raja dan ratu.\"\n",
    "generated_text = prompt\n",
    "print (\"\\nprompt: \")\n",
    "print (generated_text)\n",
    "\n",
    "# Generate text using the introduction model\n",
    "introduction_outputs = introduction_pipeline(\n",
    "    generated_text,\n",
    "    max_length=128,\n",
    "    num_beams=5,\n",
    "    no_repeat_ngram_size=2,\n",
    "    early_stopping=True\n",
    ")\n",
    "generated_text += introduction_outputs[0]['generated_text']\n",
    "print (\"\\nintroduction: \")\n",
    "print (generated_text)\n",
    "\n",
    "# Get the generated text from the introduction\n",
    "intro_generated_text = introduction_outputs[0]['generated_text']\n",
    "\n",
    "# Generate text using the climax model\n",
    "climax_prompt = prompt + intro_generated_text.replace(prompt, \"\")\n",
    "climax_outputs = climax_pipeline(\n",
    "    climax_prompt,\n",
    "    max_length=256,\n",
    "    num_beams=5,\n",
    "    no_repeat_ngram_size=2,\n",
    "    early_stopping=True\n",
    ")\n",
    "generated_text += climax_outputs[0]['generated_text'].replace(intro_generated_text, \"\")\n",
    "print (\"\\nclimax: \")\n",
    "print (generated_text)\n",
    "\n",
    "# Generate text using the resolution model\n",
    "resolution_outputs = resolution_pipeline(\n",
    "    generated_text,\n",
    "    max_length=512,\n",
    "    num_beams=5,\n",
    "    no_repeat_ngram_size=2,\n",
    "    early_stopping=True\n",
    ")\n",
    "generated_text += resolution_outputs[0]['generated_text']\n",
    "print (\"\\nresolution: \")\n",
    "print (generated_text)\n",
    "\n",
    "print (\"\\n\\n\\noutput: \")\n",
    "print(generated_text)"
   ]
  },
  {
   "cell_type": "code",
   "execution_count": 24,
   "metadata": {},
   "outputs": [
    {
     "name": "stderr",
     "output_type": "stream",
     "text": [
      "Setting `pad_token_id` to `eos_token_id`:50256 for open-end generation.\n"
     ]
    },
    {
     "name": "stdout",
     "output_type": "stream",
     "text": [
      "\n",
      "prompt: \n",
      "'Zara adalah seorang komedian yang populer di kota kecilnya.\n"
     ]
    },
    {
     "name": "stderr",
     "output_type": "stream",
     "text": [
      "Setting `pad_token_id` to `eos_token_id`:50256 for open-end generation.\n"
     ]
    },
    {
     "name": "stdout",
     "output_type": "stream",
     "text": [
      "\n",
      "introduction: \n",
      "'Zara adalah seorang komedian yang populer di kota kecilnya.'Zara adalah seorang komedian yang populer di kota kecilnya. Suatu hari, dia mendengar kabar tentang seorang gadis yang hilang secara misterius. Dia segera mencari tahu di mana gadis itu pertama kali ditemukan dan menemukan dirinya dalam sebuah ruangan yang sangat luas dengan sebuah buku tua yang sudah tidak lagi diterbitkan.  Zara muda segera pindah ke ruangan itu karena dia pikir dia bisa menemukan buku itu lebih cepat jika dia mencarinya di perpustakaan terdekat. Namun, ketika dia sampai di sana, sebuah bel besar yang meminta izin untuk segera dibukanya telah berbunyi dan dia harus segera membukanya karena ada sesuatu yang harus dia baca besok pagi.  Sarah, seorang mahasiswa tingkat akhir, kehilangan kunci mobilnya saat sedang\n"
     ]
    },
    {
     "name": "stderr",
     "output_type": "stream",
     "text": [
      "Setting `pad_token_id` to `eos_token_id`:50256 for open-end generation.\n"
     ]
    },
    {
     "name": "stdout",
     "output_type": "stream",
     "text": [
      "\n",
      "climax: \n",
      "'Zara adalah seorang komedian yang populer di kota kecilnya.'Zara adalah seorang komedian yang populer di kota kecilnya. Suatu hari, dia mendengar kabar tentang seorang gadis yang hilang secara misterius. Dia segera mencari tahu di mana gadis itu pertama kali ditemukan dan menemukan dirinya dalam sebuah ruangan yang sangat luas dengan sebuah buku tua yang sudah tidak lagi diterbitkan.  Zara muda segera pindah ke ruangan itu karena dia pikir dia bisa menemukan buku itu lebih cepat jika dia mencarinya di perpustakaan terdekat. Namun, ketika dia sampai di sana, sebuah bel besar yang meminta izin untuk segera dibukanya telah berbunyi dan dia harus segera membukanya karena ada sesuatu yang harus dia baca besok pagi.  Sarah, seorang mahasiswa tingkat akhir, kehilangan kunci mobilnya saat sedang menyetir dan tersesat di tengah hutan. Saat dia tiba di rumah, ada seorang pemuda yang sedang menunggunya di luar. Pemuda itu sangat tertarik pada Sarah dan sering kali membantunya dalam berbagai hal, namun dia tidak tahu apakah pemuda itu benar-benar mencintainya dan selalu ada untuknya setiap kali dia membutuhkan bantuannya. Ketika Sarah mulai merasa lelah dan merasa semakin sulit untuk melakukan banyak hal dalam waktu yang lama setelah dia menghabiskan banyak waktu di dalam mobil, tiba-tiba saja Sarah mendengar sebuah panggilan masuk di ponselnya dan melihat bahwa panggilan itu berasal dari seorang pria yang dikenalnya beberapa jam yang lalu. Pria itu bernama Aldi, yang baru saja lulus dari universitas dan sedang mencari pekerjaan paruh waktu.\n",
      "\n",
      "resolution: \n",
      "'Zara adalah seorang komedian yang populer di kota kecilnya.'Zara adalah seorang komedian yang populer di kota kecilnya. Suatu hari, dia mendengar kabar tentang seorang gadis yang hilang secara misterius. Dia segera mencari tahu di mana gadis itu pertama kali ditemukan dan menemukan dirinya dalam sebuah ruangan yang sangat luas dengan sebuah buku tua yang sudah tidak lagi diterbitkan.  Zara muda segera pindah ke ruangan itu karena dia pikir dia bisa menemukan buku itu lebih cepat jika dia mencarinya di perpustakaan terdekat. Namun, ketika dia sampai di sana, sebuah bel besar yang meminta izin untuk segera dibukanya telah berbunyi dan dia harus segera membukanya karena ada sesuatu yang harus dia baca besok pagi.  Sarah, seorang mahasiswa tingkat akhir, kehilangan kunci mobilnya saat sedang menyetir dan tersesat di tengah hutan. Saat dia tiba di rumah, ada seorang pemuda yang sedang menunggunya di luar. Pemuda itu sangat tertarik pada Sarah dan sering kali membantunya dalam berbagai hal, namun dia tidak tahu apakah pemuda itu benar-benar mencintainya dan selalu ada untuknya setiap kali dia membutuhkan bantuannya. Ketika Sarah mulai merasa lelah dan merasa semakin sulit untuk melakukan banyak hal dalam waktu yang lama setelah dia menghabiskan banyak waktu di dalam mobil, tiba-tiba saja Sarah mendengar sebuah panggilan masuk di ponselnya dan melihat bahwa panggilan itu berasal dari seorang pria yang dikenalnya beberapa jam yang lalu. Pria itu bernama Aldi, yang baru saja lulus dari universitas dan sedang mencari pekerjaan paruh waktu.'Zara adalah seorang komedian yang populer di kota kecilnya.'Zara adalah seorang komedian yang populer di kota kecilnya. Suatu hari, dia mendengar kabar tentang seorang gadis yang hilang secara misterius. Dia segera mencari tahu di mana gadis itu pertama kali ditemukan dan menemukan dirinya dalam sebuah ruangan yang sangat luas dengan sebuah buku tua yang sudah tidak lagi diterbitkan.  Zara muda segera pindah ke ruangan itu karena dia pikir dia bisa menemukan buku itu lebih cepat jika dia mencarinya di perpustakaan terdekat. Namun, ketika dia sampai di sana, sebuah bel besar yang meminta izin untuk segera dibukanya telah berbunyi dan dia harus segera membukanya karena ada sesuatu yang harus dia baca besok pagi.  Sarah, seorang mahasiswa tingkat akhir, kehilangan kunci mobilnya saat sedang menyetir dan tersesat di tengah hutan. Saat dia tiba di rumah, ada seorang pemuda yang sedang menunggunya di luar. Pemuda itu sangat tertarik pada Sarah dan sering kali membantunya dalam berbagai hal, namun dia tidak tahu apakah pemuda itu benar-benar mencintainya dan selalu ada untuknya setiap kali dia membutuhkan bantuannya. Ketika Sarah mulai merasa lelah dan merasa semakin sulit untuk melakukan banyak hal dalam waktu yang lama setelah dia menghabiskan banyak waktu di dalam mobil, tiba-tiba saja Sarah mendengar sebuah panggilan masuk di ponselnya dan melihat bahwa panggilan itu berasal dari seorang pria yang dikenalnya beberapa jam yang lalu. Pria itu bernama Aldi, yang baru saja lulus dari universitas dan sedang mencari pekerjaan paruh waktu. Aldi kemudian memutuskan untuk menghubungi Sarah melalui sebuah pesan singkat dan bertanya apakah dia dapat bertemu dengannya secara langsung. Sarah merasa sangat terkejut ketika mengetahui bahwa pria itu ternyata adalah sahabat masa kecilnya dan telah menjadi bagian dari keluarganya selama beberapa tahun dan mereka bahkan sering menghabiskan waktu bersama saat Aldi masih kecil. Meskipun Aldi tidak mengetahui secara pasti tentang hubungan mereka, Sarah berusaha untuk meyakinkan Aldi bahwa dia adalah orang yang tepat untuk mendampinginya dalam perjalanan menuju universitasnya. Setelah beberapa saat, Aldi memperkenalkan Sarah kepada keluarga dan teman-temannya yang lain sehingga mereka dapat lebih mengenal satu sama lain dan lebih memahami sifat asli masing-masing anggota keluarga tersebut dan mengetahui dengan pasti bahwa mereka tidak akan melakukan hubungan apa pun dengan orang lain selain sahabat mereka yang telah mereka anggap sebagai \"keluarga\". Ketika mereka sedang berkumpul di taman, salah satu dari mereka merasa terganggu oleh seseorang yang tampaknya telah kehilangan kontak dengan mereka beberapa waktu lalu, tetapi orang itu tidak mengganggunya lebih lanjut dan bersikeras bahwa itu hanyalah orang asing yang ingin dia kenal lebih jauh. Tanpa mengetahui lebih banyak tentang siapa dia dan mengapa dia merasa tidak nyaman dengan keberadaannya di dunia ini, keluarga Aldi mulai mencari cara untuk menemukan kembali orang tersebut. Akhirnya, mereka menemukan rumah yang dimaksud oleh Aldi dan keluarga itu merasa lega karena mereka telah menemukan pengganti yang dapat dipercaya untuk\n",
      "\n",
      "\n",
      "\n",
      "output: \n",
      "'Zara adalah seorang komedian yang populer di kota kecilnya.'Zara adalah seorang komedian yang populer di kota kecilnya. Suatu hari, dia mendengar kabar tentang seorang gadis yang hilang secara misterius. Dia segera mencari tahu di mana gadis itu pertama kali ditemukan dan menemukan dirinya dalam sebuah ruangan yang sangat luas dengan sebuah buku tua yang sudah tidak lagi diterbitkan.  Zara muda segera pindah ke ruangan itu karena dia pikir dia bisa menemukan buku itu lebih cepat jika dia mencarinya di perpustakaan terdekat. Namun, ketika dia sampai di sana, sebuah bel besar yang meminta izin untuk segera dibukanya telah berbunyi dan dia harus segera membukanya karena ada sesuatu yang harus dia baca besok pagi.  Sarah, seorang mahasiswa tingkat akhir, kehilangan kunci mobilnya saat sedang menyetir dan tersesat di tengah hutan. Saat dia tiba di rumah, ada seorang pemuda yang sedang menunggunya di luar. Pemuda itu sangat tertarik pada Sarah dan sering kali membantunya dalam berbagai hal, namun dia tidak tahu apakah pemuda itu benar-benar mencintainya dan selalu ada untuknya setiap kali dia membutuhkan bantuannya. Ketika Sarah mulai merasa lelah dan merasa semakin sulit untuk melakukan banyak hal dalam waktu yang lama setelah dia menghabiskan banyak waktu di dalam mobil, tiba-tiba saja Sarah mendengar sebuah panggilan masuk di ponselnya dan melihat bahwa panggilan itu berasal dari seorang pria yang dikenalnya beberapa jam yang lalu. Pria itu bernama Aldi, yang baru saja lulus dari universitas dan sedang mencari pekerjaan paruh waktu.'Zara adalah seorang komedian yang populer di kota kecilnya.'Zara adalah seorang komedian yang populer di kota kecilnya. Suatu hari, dia mendengar kabar tentang seorang gadis yang hilang secara misterius. Dia segera mencari tahu di mana gadis itu pertama kali ditemukan dan menemukan dirinya dalam sebuah ruangan yang sangat luas dengan sebuah buku tua yang sudah tidak lagi diterbitkan.  Zara muda segera pindah ke ruangan itu karena dia pikir dia bisa menemukan buku itu lebih cepat jika dia mencarinya di perpustakaan terdekat. Namun, ketika dia sampai di sana, sebuah bel besar yang meminta izin untuk segera dibukanya telah berbunyi dan dia harus segera membukanya karena ada sesuatu yang harus dia baca besok pagi.  Sarah, seorang mahasiswa tingkat akhir, kehilangan kunci mobilnya saat sedang menyetir dan tersesat di tengah hutan. Saat dia tiba di rumah, ada seorang pemuda yang sedang menunggunya di luar. Pemuda itu sangat tertarik pada Sarah dan sering kali membantunya dalam berbagai hal, namun dia tidak tahu apakah pemuda itu benar-benar mencintainya dan selalu ada untuknya setiap kali dia membutuhkan bantuannya. Ketika Sarah mulai merasa lelah dan merasa semakin sulit untuk melakukan banyak hal dalam waktu yang lama setelah dia menghabiskan banyak waktu di dalam mobil, tiba-tiba saja Sarah mendengar sebuah panggilan masuk di ponselnya dan melihat bahwa panggilan itu berasal dari seorang pria yang dikenalnya beberapa jam yang lalu. Pria itu bernama Aldi, yang baru saja lulus dari universitas dan sedang mencari pekerjaan paruh waktu. Aldi kemudian memutuskan untuk menghubungi Sarah melalui sebuah pesan singkat dan bertanya apakah dia dapat bertemu dengannya secara langsung. Sarah merasa sangat terkejut ketika mengetahui bahwa pria itu ternyata adalah sahabat masa kecilnya dan telah menjadi bagian dari keluarganya selama beberapa tahun dan mereka bahkan sering menghabiskan waktu bersama saat Aldi masih kecil. Meskipun Aldi tidak mengetahui secara pasti tentang hubungan mereka, Sarah berusaha untuk meyakinkan Aldi bahwa dia adalah orang yang tepat untuk mendampinginya dalam perjalanan menuju universitasnya. Setelah beberapa saat, Aldi memperkenalkan Sarah kepada keluarga dan teman-temannya yang lain sehingga mereka dapat lebih mengenal satu sama lain dan lebih memahami sifat asli masing-masing anggota keluarga tersebut dan mengetahui dengan pasti bahwa mereka tidak akan melakukan hubungan apa pun dengan orang lain selain sahabat mereka yang telah mereka anggap sebagai \"keluarga\". Ketika mereka sedang berkumpul di taman, salah satu dari mereka merasa terganggu oleh seseorang yang tampaknya telah kehilangan kontak dengan mereka beberapa waktu lalu, tetapi orang itu tidak mengganggunya lebih lanjut dan bersikeras bahwa itu hanyalah orang asing yang ingin dia kenal lebih jauh. Tanpa mengetahui lebih banyak tentang siapa dia dan mengapa dia merasa tidak nyaman dengan keberadaannya di dunia ini, keluarga Aldi mulai mencari cara untuk menemukan kembali orang tersebut. Akhirnya, mereka menemukan rumah yang dimaksud oleh Aldi dan keluarga itu merasa lega karena mereka telah menemukan pengganti yang dapat dipercaya untuk\n"
     ]
    }
   ],
   "source": [
    "prompt = \"\"\n",
    "generated_text = prompt\n",
    "print (\"\\nprompt: \")\n",
    "print (generated_text)\n",
    "\n",
    "# Generate text using the introduction model\n",
    "introduction_outputs = introduction_pipeline(\n",
    "    generated_text,\n",
    "    max_length=128,\n",
    "    num_beams=5,\n",
    "    no_repeat_ngram_size=2,\n",
    "    early_stopping=True\n",
    ")\n",
    "generated_text += introduction_outputs[0]['generated_text']\n",
    "print (\"\\nintroduction: \")\n",
    "print (generated_text)\n",
    "\n",
    "# Get the generated text from the introduction\n",
    "intro_generated_text = introduction_outputs[0]['generated_text']\n",
    "\n",
    "# Generate text using the climax model\n",
    "climax_prompt = prompt + intro_generated_text.replace(prompt, \"\")\n",
    "climax_outputs = climax_pipeline(\n",
    "    climax_prompt,\n",
    "    max_length=256,\n",
    "    num_beams=5,\n",
    "    no_repeat_ngram_size=2,\n",
    "    early_stopping=True\n",
    ")\n",
    "generated_text += climax_outputs[0]['generated_text'].replace(intro_generated_text, \"\")\n",
    "print (\"\\nclimax: \")\n",
    "print (generated_text)\n",
    "\n",
    "# Generate text using the resolution model\n",
    "resolution_outputs = resolution_pipeline(\n",
    "    generated_text,\n",
    "    max_length=512,\n",
    "    num_beams=5,\n",
    "    no_repeat_ngram_size=2,\n",
    "    early_stopping=True\n",
    ")\n",
    "generated_text += resolution_outputs[0]['generated_text']\n",
    "print (\"\\nresolution: \")\n",
    "print (generated_text)\n",
    "\n",
    "print (\"\\n\\n\\noutput: \")\n",
    "print(generated_text)"
   ]
  },
  {
   "cell_type": "code",
   "execution_count": 13,
   "metadata": {},
   "outputs": [
    {
     "name": "stdout",
     "output_type": "stream",
     "text": [
      "3632455168\n"
     ]
    }
   ],
   "source": [
    "import torch\n",
    "torch.cuda.empty_cache()\n",
    "print(torch.cuda.memory_allocated())"
   ]
  },
  {
   "cell_type": "code",
   "execution_count": 18,
   "metadata": {},
   "outputs": [
    {
     "name": "stdout",
     "output_type": "stream",
     "text": [
      "3394319360\n"
     ]
    },
    {
     "ename": "",
     "evalue": "",
     "output_type": "error",
     "traceback": [
      "\u001b[1;31mThe Kernel crashed while executing code in the the current cell or a previous cell. Please review the code in the cell(s) to identify a possible cause of the failure. Click <a href='https://aka.ms/vscodeJupyterKernelCrash'>here</a> for more info. View Jupyter <a href='command:jupyter.viewOutput'>log</a> for further details."
     ]
    }
   ],
   "source": [
    "import torch\n",
    "torch.cuda.empty_cache()\n",
    "print(torch.cuda.memory_allocated())"
   ]
  },
  {
   "cell_type": "code",
   "execution_count": 1,
   "metadata": {},
   "outputs": [
    {
     "name": "stdout",
     "output_type": "stream",
     "text": [
      "Wed Oct 11 15:52:41 2023       \n",
      "+-----------------------------------------------------------------------------+\n",
      "| NVIDIA-SMI 516.01       Driver Version: 516.01       CUDA Version: 11.7     |\n",
      "|-------------------------------+----------------------+----------------------+\n",
      "| GPU  Name            TCC/WDDM | Bus-Id        Disp.A | Volatile Uncorr. ECC |\n",
      "| Fan  Temp  Perf  Pwr:Usage/Cap|         Memory-Usage | GPU-Util  Compute M. |\n",
      "|                               |                      |               MIG M. |\n",
      "|===============================+======================+======================|\n",
      "|   0  NVIDIA GeForce ... WDDM  | 00000000:01:00.0  On |                  N/A |\n",
      "| N/A   52C    P8    N/A /  N/A |    179MiB /  4096MiB |      1%      Default |\n",
      "|                               |                      |                  N/A |\n",
      "+-------------------------------+----------------------+----------------------+\n",
      "                                                                               \n",
      "+-----------------------------------------------------------------------------+\n",
      "| Processes:                                                                  |\n",
      "|  GPU   GI   CI        PID   Type   Process name                  GPU Memory |\n",
      "|        ID   ID                                                   Usage      |\n",
      "|=============================================================================|\n",
      "|    0   N/A  N/A     10256    C+G   ...er_engine\\wallpaper32.exe    N/A      |\n",
      "|    0   N/A  N/A     19212    C+G   ...ram Files\\Krisp\\Krisp.exe    N/A      |\n",
      "+-----------------------------------------------------------------------------+\n"
     ]
    }
   ],
   "source": [
    "!nvidia-smi"
   ]
  },
  {
   "cell_type": "code",
   "execution_count": 2,
   "metadata": {},
   "outputs": [
    {
     "name": "stdout",
     "output_type": "stream",
     "text": [
      "BLEU score: 0.10950845236411683\n"
     ]
    }
   ],
   "source": [
    "import nltk\n",
    "from nltk.translate.bleu_score import sentence_bleu\n",
    "\n",
    "gpt2_output = \"Seorang putri muda yang bernama Luna hidup dalam sebuah kerajaan besar yang dipimpin oleh raja dan ratu.Seorang putri muda yang bernama Luna hidup dalam sebuah kerajaan besar yang dipimpin oleh raja dan ratu. Luna adalah seorang gadis yang sangat menyukai petualangan. Suatu hari, dia mendengar kabar tentang sebuah hutan terlarang yang belum pernah dijelajahi oleh manusia sebelumnya. Dia merasa tertarik dan memutuskan untuk menjelajahi hutan itu sendirian. Namun, ketika dia tiba di sana, sebuah badai menghadang di depan matanya dan memaksanya untuk bertahan hidup dengan cara yang paling aman dan terbaik yang bisa dia lakukan.  Seorang wanita muda bernama Maya baru saja lulus kuliah dan memulai pekerjaan barunya sebagai editor buku di sebuah penerbit terkenal. Maya sedang mencari penerbit yang tepat untuk menerbitkan bukunya, tetapi dia tidak tahu harus mulai dari mana. Hal ini menyebabkan dia merasa kesulitan untuk memulai bisnis barunya dan pada akhirnya membuatnya merasa semakin tertekan dan semakin sulit untuk fokus pada pekerjaannya saat dia terus-menerus merasa gugup dan cemas setiap kali dia melangkah keluar dari gedung penerbitnya.  Maya segera menyadari bahwa ada sesuatu yang salah dengan dirinya dan dia harus berhati-hati dalam mengambil keputusan. Sesuatu yang tidak dia ketahui tentang dunia luar biasanya dan kehidupan orang-orang yang tinggal di dalamnya juga berada di luar jangkauannya. Selain itu, Maya juga mulai merasa takut dan terancam oleh makhluk-makhluk gaib yang berkeliaran di sekitar tempat dia tinggal dan berusaha untuk menguasai mereka. Untuk membantu mengatasi masalah-masalah yang dihadapi Maya, seorang penulisSeorang putri muda yang bernama Luna hidup dalam sebuah kerajaan besar yang dipimpin oleh raja dan ratu.\"\n",
    "\n",
    "reference_sentences = [\"Seorang putri muda yang bernama Luna hidup dalam sebuah kerajaan besar yang dipimpin oleh raja dan ratu. Luna adalah putri yang cerdas, berbakat, dan memiliki kekuatan magis yang luar biasa. Namun, Luna memiliki rahasia yang dia sembunyikan dari orang lain, yaitu dia adalah keturunan dari ras peri yang dipercayai telah punah. Suatu hari, Luna menemukan bahwa sebuah kutukan kuat telah menimpa kerajaannya dan mengancam untuk menghancurkannya. Luna menyadari bahwa hanya kekuatannya sebagai peri yang dapat menyelamatkan kerajaannya dan rakyatnya. Namun, dia tahu bahwa jika dia mengungkapkan identitasnya sebagai peri, dia akan dianggap sebagai pengkhianat dan dihukum mati. Luna harus memutuskan antara melindungi identitasnya sebagai peri dan menyelamatkan kerajaannya atau mengorbankan dirinya sendiri demi menjaga rahasianya. Luna memutuskan untuk menggunakan kekuatan magisnya dan merencanakan strategi dengan hati-hati untuk mengalahkan kutukan dan menyelamatkan kerajaannya. Dalam perjalanan ini, Luna menemukan kekuatan baru dan belajar bahwa dia dapat menggabungkan kekuatannya sebagai peri dan putri untuk menjadi pahlawan sejati dan menyelamatkan kerajaannya dari kehancuran.\"]\n",
    "\n",
    "gpt2_tokens = nltk.word_tokenize(gpt2_output)\n",
    "reference_tokens = [nltk.word_tokenize(sentence) for sentence in reference_sentences]\n",
    "\n",
    "bleu_score = sentence_bleu(reference_tokens, gpt2_tokens)\n",
    "\n",
    "print(\"BLEU score:\", bleu_score)"
   ]
  },
  {
   "cell_type": "code",
   "execution_count": 1,
   "metadata": {},
   "outputs": [
    {
     "name": "stdout",
     "output_type": "stream",
     "text": [
      "ROUGE scores for reference sentence 1\n",
      "ROUGE-1: 0.2693877503726781\n",
      "ROUGE-2: 0.11796246172372422\n",
      "ROUGE-L: 0.26122448506655566\n",
      "\n"
     ]
    }
   ],
   "source": [
    "from rouge import Rouge\n",
    "\n",
    "gpt2_output = \"Seorang putri muda yang bernama Luna hidup dalam sebuah kerajaan besar yang dipimpin oleh raja dan ratu.Seorang putri muda yang bernama Luna hidup dalam sebuah kerajaan besar yang dipimpin oleh raja dan ratu. Luna adalah seorang gadis yang sangat menyukai petualangan. Suatu hari, dia mendengar kabar tentang sebuah hutan terlarang yang belum pernah dijelajahi oleh manusia sebelumnya. Dia merasa tertarik dan memutuskan untuk menjelajahi hutan itu sendirian. Namun, ketika dia tiba di sana, sebuah badai menghadang di depan matanya dan memaksanya untuk bertahan hidup dengan cara yang paling aman dan terbaik yang bisa dia lakukan.  Seorang wanita muda bernama Maya baru saja lulus kuliah dan memulai pekerjaan barunya sebagai editor buku di sebuah penerbit terkenal. Maya sedang mencari penerbit yang tepat untuk menerbitkan bukunya, tetapi dia tidak tahu harus mulai dari mana. Hal ini menyebabkan dia merasa kesulitan untuk memulai bisnis barunya dan pada akhirnya membuatnya merasa semakin tertekan dan semakin sulit untuk fokus pada pekerjaannya saat dia terus-menerus merasa gugup dan cemas setiap kali dia melangkah keluar dari gedung penerbitnya.  Maya segera menyadari bahwa ada sesuatu yang salah dengan dirinya dan dia harus berhati-hati dalam mengambil keputusan. Sesuatu yang tidak dia ketahui tentang dunia luar biasanya dan kehidupan orang-orang yang tinggal di dalamnya juga berada di luar jangkauannya. Selain itu, Maya juga mulai merasa takut dan terancam oleh makhluk-makhluk gaib yang berkeliaran di sekitar tempat dia tinggal dan berusaha untuk menguasai mereka. Untuk membantu mengatasi masalah-masalah yang dihadapi Maya, seorang penulisSeorang putri muda yang bernama Luna hidup dalam sebuah kerajaan besar yang dipimpin oleh raja dan ratu.\"\n",
    "\n",
    "reference_sentences = [\"Seorang putri muda yang bernama Luna hidup dalam sebuah kerajaan besar yang dipimpin oleh raja dan ratu.Seorang putri muda yang bernama Luna hidup dalam sebuah kerajaan besar yang dipimpin oleh raja dan ratu. Luna adalah putri yang cerdas, berbakat, dan memiliki kekuatan magis yang luar biasa. Namun, Luna memiliki rahasia yang dia sembunyikan dari orang lain, yaitu dia adalah keturunan dari ras peri yang dipercayai telah punah. Suatu hari, Luna menemukan bahwa sebuah kutukan kuat telah menimpa kerajaannya dan mengancam untuk menghancurkannya. Luna menyadari bahwa hanya kekuatannya sebagai peri yang dapat menyelamatkan kerajaannya dan rakyatnya. Namun, dia tahu bahwa jika dia mengungkapkan identitasnya sebagai peri, dia akan dianggap sebagai pengkhianat dan dihukum mati. Luna harus memutuskan antara melindungi identitasnya sebagai peri dan menyelamatkan kerajaannya atau mengorbankan dirinya sendiri demi menjaga rahasianya. Luna memutuskan untuk menggunakan kekuatan magisnya dan merencanakan strategi dengan hati-hati untuk mengalahkan kutukan dan menyelamatkan kerajaannya. Dalam perjalanan ini, Luna menemukan kekuatan baru dan belajar bahwa dia dapat menggabungkan kekuatannya sebagai peri dan putri untuk menjadi pahlawan sejati dan menyelamatkan kerajaannya dari kehancuran.\"]\n",
    "\n",
    "# Initialize Rouge object\n",
    "rouge = Rouge()\n",
    "\n",
    "# Calculate ROUGE scores for each reference sentence\n",
    "rouge_scores = []\n",
    "for ref_sentence in reference_sentences:\n",
    "    scores = rouge.get_scores(gpt2_output, ref_sentence)\n",
    "    rouge_scores.append(scores[0])\n",
    "\n",
    "# Print ROUGE scores\n",
    "for i, ref_sentence in enumerate(reference_sentences):\n",
    "    print(\"ROUGE scores for reference sentence\", i + 1)\n",
    "    print(\"ROUGE-1:\", rouge_scores[i]['rouge-1']['f'])\n",
    "    print(\"ROUGE-2:\", rouge_scores[i]['rouge-2']['f'])\n",
    "    print(\"ROUGE-L:\", rouge_scores[i]['rouge-l']['f'])\n",
    "    print()"
   ]
  },
  {
   "cell_type": "code",
   "execution_count": 7,
   "metadata": {},
   "outputs": [
    {
     "name": "stdout",
     "output_type": "stream",
     "text": [
      "BLEU score: 0.09697196786440505\n"
     ]
    }
   ],
   "source": [
    "import nltk\n",
    "from nltk.translate.bleu_score import sentence_bleu\n",
    "\n",
    "gpt2_output = \"Seorang putri muda yang bernama Luna\"\n",
    "\n",
    "reference_sentences = [\"Seorang putri muda yang bernama Luna yang tinggal di kota jakarta yang sekarang bertemu dengan pria yang tinggal di yogyakarta\"]\n",
    "\n",
    "gpt2_tokens = nltk.word_tokenize(gpt2_output)\n",
    "reference_tokens = [nltk.word_tokenize(sentence) for sentence in reference_sentences]\n",
    "\n",
    "bleu_score = sentence_bleu(reference_tokens, gpt2_tokens)\n",
    "\n",
    "print(\"BLEU score:\", bleu_score)"
   ]
  },
  {
   "cell_type": "code",
   "execution_count": 11,
   "metadata": {},
   "outputs": [
    {
     "name": "stderr",
     "output_type": "stream",
     "text": [
      "Setting `pad_token_id` to `eos_token_id`:50256 for open-end generation.\n"
     ]
    },
    {
     "name": "stdout",
     "output_type": "stream",
     "text": [
      "\n",
      "prompt: \n",
      "<|startoftext|> Suatu hari Scott sedang berjalan pulang dari sekolah.\n",
      "\n",
      "output: \n",
      "[{'generated_text': '<|startoftext|> Suatu hari Scott sedang berjalan pulang dari sekolah. <|sentence1to2|> Dia melihat seekor anjing besar di halaman belakang rumahnya. <|sentence2to3|> Anjing itu berlari ke arahnya dan menggigitnya. <|sentence3to4|> Pria itu memberi tahu Scott bahwa dia telah membunuh anjing itu. <|sentence4to5|> Scott tidak senang dengan apa yang terjadi padanya. '}]\n"
     ]
    }
   ],
   "source": [
    "from transformers import pipeline, AutoModelWithLMHead, AutoTokenizer\n",
    "\n",
    "model = AutoModelWithLMHead.from_pretrained(\"./gpt2-ROCStories-romance-resumed/checkpoint-2600/\")\n",
    "tokenizer = AutoTokenizer.from_pretrained(\"indonesian-nlp/gpt2\")\n",
    "\n",
    "pipeline = pipeline(\"text-generation\", model=model, tokenizer=tokenizer)\n",
    "\n",
    "prompt = \"<|startoftext|> Suatu hari Scott sedang berjalan pulang dari sekolah.\"\n",
    "generated_text = prompt\n",
    "print (\"\\nprompt: \")\n",
    "print (generated_text)\n",
    "outputs = pipeline(\n",
    "    prompt,\n",
    "    max_length=7000,\n",
    "    num_beams=5,\n",
    "    repetition_penalty = 5.0\n",
    ")\n",
    "print (\"\\noutput: \")\n",
    "print (outputs)"
   ]
  },
  {
   "cell_type": "code",
   "execution_count": 85,
   "metadata": {},
   "outputs": [
    {
     "name": "stdout",
     "output_type": "stream",
     "text": [
      "[{'generated_text': '<|startoftext|> aya pergi ke toko kelontong. <|sentence1to2|> Dia membeli semua bahan yang dia butuhkan. <|sentence2to3|> Ketika sampai di sana, dia melihat bahwa itu adalah kentang goreng. <|sentence3to4|> Jadi dia memutuskan untuk mencobanya. <|sentence4to5|> Itu sangat lezat! '}]\n",
      "None\n"
     ]
    }
   ],
   "source": [
    "import re\n",
    "generated_text = \"[{'generated_text': '<|startoftext|> aya pergi ke toko kelontong. <|sentence1to2|> Dia membeli semua bahan yang dia butuhkan. <|sentence2to3|> Ketika sampai di sana, dia melihat bahwa itu adalah kentang goreng. <|sentence3to4|> Jadi dia memutuskan untuk mencobanya. <|sentence4to5|> Itu sangat lezat! '}]\"\n",
    "\n",
    "\n",
    "print (outputs)\n",
    "\n",
    "generated_exposition = re.search(\n",
    "        r\"<\\|startoftext\\|>(.*?)<\\|sentence1to2\\|>\", outputs[0]['generated_text'])\n",
    "generated_rising_action = re.search(\n",
    "        r'<\\|sentence1to2\\|>(.*?)<\\|sentence2to3\\|>', generated_text).group(1)\n",
    "generated_climax = re.search(\n",
    "        r'<\\|sentence2to3\\|>(.*?)<\\|sentence3to4\\|>', generated_text)\n",
    "generated_falling_action = re.search(\n",
    "        r'<\\|sentence3to4\\|>(.*?)<\\|sentence4to5\\|>', generated_text).group(1)\n",
    "generated_resolution = re.search(\n",
    "        r\"<\\|sentence4to5\\|>(.*?\\.)\", generated_text)\n",
    "\n",
    "result = re.search(r'<\\|b>(.*?)<\\|b>', generated_text)\n",
    "\n",
    "print (generated_resolution)\n"
   ]
  },
  {
   "cell_type": "code",
   "execution_count": 58,
   "metadata": {},
   "outputs": [
    {
     "name": "stdout",
     "output_type": "stream",
     "text": [
      " aya pergi ke toko kelontong. \n"
     ]
    }
   ],
   "source": [
    "\n",
    "import re\n",
    "\n",
    "regex_intro = r'<\\|startoftext\\|>(.*?)<\\|sentence1to2\\|>'\n",
    "\n",
    "test_str = \"[{'generated_text': '<|startoftext|> aya pergi ke toko kelontong. <|sentence1to2|> Dia membeli semua bahan yang dia butuhkan. <|sentence2to3|> Ketika sampai di sana, dia melihat bahwa itu adalah kentang goreng. <|sentence3to4|> Jadi dia memutuskan untuk mencobanya. <|sentence4to5|> Itu sangat lezat! '}]\"\n",
    "\n",
    "matches = re.search(regex_intro, test_str)\n",
    "\n",
    "print (matches.group(1))\n"
   ]
  },
  {
   "cell_type": "code",
   "execution_count": 4,
   "metadata": {},
   "outputs": [
    {
     "name": "stdout",
     "output_type": "stream",
     "text": [
      "BLEU score: 0.05567630908035784\n"
     ]
    }
   ],
   "source": [
    "import nltk\n",
    "from nltk.translate.bleu_score import sentence_bleu\n",
    "\n",
    "gpt2_output = \"{'pendahuluan': 'ita1: pena bisa mengubah nasib, tapi tidak untuk menulis.2: pena tidak kehilangan kekuatan, tetapi ia menulis untuk keabadian3: pena tidak pernah hilang, ia menulis untuk keabadian4: pena tidak pernah mati, ia menulis untuk keabadian5: pena tidak pernah hilang, ia menulis untuk keabadian6: pena tidak pernah mati, ia menulis untuk keabadian7: pena tidak pernah berhenti, ia menulis untuk keabadian8: pena tidak pernah berhenti, ia menulis untuk keabadian9: pena tidak pernah berhenti, ia menulis untuk keabadian10: pena tidak', 'klimaks': 'itaclysmdiawl adalah seorang ahli sihir muda yang sedang belajar ilmu sihir di Akademi Sihir Elvandor. dia bertemu dengan seorang gadis bernama Luna di akademi tersebut dan mereka pun mulai berteman. namun, ketika Luna mulai mempelajari sihir, dia menyadari bahwa kemampuannya masih perlu ditingkatkan. itaclysmdiawl akhirnya memutuskan untuk memberitahu Luna lebih banyak tentang kemampuannya dan meminta bantuan dari Luna. itaclysmdiawl akhirnya berhasil meningkatkan kemampuan Luna dan Luna kini bisa menggunakan sihir jarak jauhnya dengan mudah.', 'solusi': 'ita mencari Luna dan dia menemukan dia di hutan yang dia tinggalkan beberapa hari yang lalu. Dia meminta saran dari orang-orang tentang apa yang harus dilakukan untuk tetap tinggal di kerajaannya.Orang-orang yang dia temukan adalah keluarga kerajaan dan teman-temannya. Dia merasa sedih dan kesepian karena dia tidak Suapaya dia bisa tinggal di kerajaannya. ita kemudian memutuskan untuk mencari cara untuk tetap tinggal di kerajaannya. Dia bertemu dengan seorang penyihir tua yang dikenal sebagai Master of Magic. Dia menawarkan bantuan dan saran kepada Luna. Luna mengikuti saran yang diberikan kepadanya'}\"\n",
    "\n",
    "reference_sentences = [\"'pendahuluan': Seorang putri muda yang bernama Luna hidup dalam sebuah kerajaan besar yang dipimpin oleh raja dan ratu. Luna adalah putri yang cerdas, berbakat, dan memiliki kekuatan magis yang luar biasa. Namun, Luna memiliki rahasia yang dia sembunyikan dari orang lain, yaitu dia adalah keturunan dari ras peri yang dipercayai telah punah.', 'klimaks': 'Suatu hari, Luna menemukan bahwa sebuah kutukan kuat telah menimpa kerajaannya dan mengancam untuk menghancurkannya. Luna menyadari bahwa hanya kekuatannya sebagai peri yang dapat menyelamatkan kerajaannya dan rakyatnya. Namun, dia tahu bahwa jika dia mengungkapkan identitasnya sebagai peri, dia akan dianggap sebagai pengkhianat dan dihukum mati.', 'solusi':  'Luna harus memutuskan antara melindungi identitasnya sebagai peri dan menyelamatkan kerajaannya atau mengorbankan dirinya sendiri demi menjaga rahasianya. Luna memutuskan untuk menggunakan kekuatan magisnya dan merencanakan strategi dengan hati-hati untuk mengalahkan kutukan dan menyelamatkan kerajaannya. Dalam perjalanan ini, Luna menemukan kekuatan baru dan belajar bahwa dia dapat menggabungkan kekuatannya sebagai peri dan putri untuk menjadi pahlawan sejati dan menyelamatkan kerajaannya dari kehancuran.'\"]\n",
    "\n",
    "gpt2_tokens = nltk.word_tokenize(gpt2_output)\n",
    "reference_tokens = [nltk.word_tokenize(sentence) for sentence in reference_sentences]\n",
    "\n",
    "bleu_score = sentence_bleu(reference_tokens, gpt2_tokens)\n",
    "\n",
    "print(\"BLEU score:\", bleu_score)"
   ]
  },
  {
   "cell_type": "code",
   "execution_count": 1,
   "metadata": {},
   "outputs": [
    {
     "name": "stdout",
     "output_type": "stream",
     "text": [
      "BLEU score: 0.8965768374392635\n"
     ]
    },
    {
     "ename": "KeyError",
     "evalue": "'rouge-5'",
     "output_type": "error",
     "traceback": [
      "\u001b[1;31m---------------------------------------------------------------------------\u001b[0m",
      "\u001b[1;31mKeyError\u001b[0m                                  Traceback (most recent call last)",
      "Cell \u001b[1;32mIn[1], line 41\u001b[0m\n\u001b[0;32m     39\u001b[0m highest_rouge_1 \u001b[38;5;241m=\u001b[39m \u001b[38;5;28mmax\u001b[39m(rouge_scores, key\u001b[38;5;241m=\u001b[39m\u001b[38;5;28;01mlambda\u001b[39;00m x: x[\u001b[38;5;124m'\u001b[39m\u001b[38;5;124mrouge-1\u001b[39m\u001b[38;5;124m'\u001b[39m][\u001b[38;5;124m'\u001b[39m\u001b[38;5;124mf\u001b[39m\u001b[38;5;124m'\u001b[39m])\n\u001b[0;32m     40\u001b[0m highest_rouge_2 \u001b[38;5;241m=\u001b[39m \u001b[38;5;28mmax\u001b[39m(rouge_scores, key\u001b[38;5;241m=\u001b[39m\u001b[38;5;28;01mlambda\u001b[39;00m x: x[\u001b[38;5;124m'\u001b[39m\u001b[38;5;124mrouge-2\u001b[39m\u001b[38;5;124m'\u001b[39m][\u001b[38;5;124m'\u001b[39m\u001b[38;5;124mf\u001b[39m\u001b[38;5;124m'\u001b[39m])\n\u001b[1;32m---> 41\u001b[0m highest_rouge_5 \u001b[38;5;241m=\u001b[39m \u001b[38;5;28;43mmax\u001b[39;49m\u001b[43m(\u001b[49m\u001b[43mrouge_scores\u001b[49m\u001b[43m,\u001b[49m\u001b[43m \u001b[49m\u001b[43mkey\u001b[49m\u001b[38;5;241;43m=\u001b[39;49m\u001b[38;5;28;43;01mlambda\u001b[39;49;00m\u001b[43m \u001b[49m\u001b[43mx\u001b[49m\u001b[43m:\u001b[49m\u001b[43m \u001b[49m\u001b[43mx\u001b[49m\u001b[43m[\u001b[49m\u001b[38;5;124;43m'\u001b[39;49m\u001b[38;5;124;43mrouge-5\u001b[39;49m\u001b[38;5;124;43m'\u001b[39;49m\u001b[43m]\u001b[49m\u001b[43m[\u001b[49m\u001b[38;5;124;43m'\u001b[39;49m\u001b[38;5;124;43mf\u001b[39;49m\u001b[38;5;124;43m'\u001b[39;49m\u001b[43m]\u001b[49m\u001b[43m)\u001b[49m\n\u001b[0;32m     42\u001b[0m highest_rouge_l \u001b[38;5;241m=\u001b[39m \u001b[38;5;28mmax\u001b[39m(rouge_scores, key\u001b[38;5;241m=\u001b[39m\u001b[38;5;28;01mlambda\u001b[39;00m x: x[\u001b[38;5;124m'\u001b[39m\u001b[38;5;124mrouge-l\u001b[39m\u001b[38;5;124m'\u001b[39m][\u001b[38;5;124m'\u001b[39m\u001b[38;5;124mf\u001b[39m\u001b[38;5;124m'\u001b[39m])\n\u001b[0;32m     44\u001b[0m \u001b[38;5;66;03m# Print the highest ROUGE scores\u001b[39;00m\n",
      "Cell \u001b[1;32mIn[1], line 41\u001b[0m, in \u001b[0;36m<lambda>\u001b[1;34m(x)\u001b[0m\n\u001b[0;32m     39\u001b[0m highest_rouge_1 \u001b[38;5;241m=\u001b[39m \u001b[38;5;28mmax\u001b[39m(rouge_scores, key\u001b[38;5;241m=\u001b[39m\u001b[38;5;28;01mlambda\u001b[39;00m x: x[\u001b[38;5;124m'\u001b[39m\u001b[38;5;124mrouge-1\u001b[39m\u001b[38;5;124m'\u001b[39m][\u001b[38;5;124m'\u001b[39m\u001b[38;5;124mf\u001b[39m\u001b[38;5;124m'\u001b[39m])\n\u001b[0;32m     40\u001b[0m highest_rouge_2 \u001b[38;5;241m=\u001b[39m \u001b[38;5;28mmax\u001b[39m(rouge_scores, key\u001b[38;5;241m=\u001b[39m\u001b[38;5;28;01mlambda\u001b[39;00m x: x[\u001b[38;5;124m'\u001b[39m\u001b[38;5;124mrouge-2\u001b[39m\u001b[38;5;124m'\u001b[39m][\u001b[38;5;124m'\u001b[39m\u001b[38;5;124mf\u001b[39m\u001b[38;5;124m'\u001b[39m])\n\u001b[1;32m---> 41\u001b[0m highest_rouge_5 \u001b[38;5;241m=\u001b[39m \u001b[38;5;28mmax\u001b[39m(rouge_scores, key\u001b[38;5;241m=\u001b[39m\u001b[38;5;28;01mlambda\u001b[39;00m x: \u001b[43mx\u001b[49m\u001b[43m[\u001b[49m\u001b[38;5;124;43m'\u001b[39;49m\u001b[38;5;124;43mrouge-5\u001b[39;49m\u001b[38;5;124;43m'\u001b[39;49m\u001b[43m]\u001b[49m[\u001b[38;5;124m'\u001b[39m\u001b[38;5;124mf\u001b[39m\u001b[38;5;124m'\u001b[39m])\n\u001b[0;32m     42\u001b[0m highest_rouge_l \u001b[38;5;241m=\u001b[39m \u001b[38;5;28mmax\u001b[39m(rouge_scores, key\u001b[38;5;241m=\u001b[39m\u001b[38;5;28;01mlambda\u001b[39;00m x: x[\u001b[38;5;124m'\u001b[39m\u001b[38;5;124mrouge-l\u001b[39m\u001b[38;5;124m'\u001b[39m][\u001b[38;5;124m'\u001b[39m\u001b[38;5;124mf\u001b[39m\u001b[38;5;124m'\u001b[39m])\n\u001b[0;32m     44\u001b[0m \u001b[38;5;66;03m# Print the highest ROUGE scores\u001b[39;00m\n",
      "\u001b[1;31mKeyError\u001b[0m: 'rouge-5'"
     ]
    }
   ],
   "source": [
    "import nltk\n",
    "from rouge import Rouge\n",
    "from nltk.translate.bleu_score import sentence_bleu\n",
    "\n",
    "file_path = \"train_translated_output.txt\"\n",
    "with open(file_path, \"r\") as f:\n",
    "    array_train_dataset = f.read().splitlines()\n",
    "\n",
    "gpt2_output = \"<|startoftext|> Saya ingin membeli mobil baru. <|sentence1to2|> Orang tua saya mengatakan kepada saya bahwa mereka tidak bisa membelinya. <|sentence2to3|> Saya memutuskan untuk pergi ke dealer di kota lain. <|sentence3to4|> Di sana, orang -orang sangat ramah dan murah hati. <|sentence4to5|> Mobil itu adalah hadiah ulang tahun yang sempurna!\"\n",
    "\n",
    "reference_sentences = array_train_dataset\n",
    "\n",
    "gpt2_tokens = nltk.word_tokenize(gpt2_output)\n",
    "reference_tokens = [nltk.word_tokenize(sentence) for sentence in reference_sentences]\n",
    "\n",
    "\n",
    "bleu_score = sentence_bleu(reference_tokens, gpt2_tokens)\n",
    "\n",
    "print(\"BLEU score:\", bleu_score)\n",
    "\n",
    "rouge = Rouge()\n",
    "\n",
    "# # Calculate ROUGE scores\n",
    "# scores = rouge.get_scores(gpt2_tokens, reference_tokens)\n",
    "\n",
    "\n",
    "# # Print the results\n",
    "# print(\"ROUGE-1 F1-score:\", rouge_scores[\"rouge-1\"][\"f\"])\n",
    "# print(\"ROUGE-2 F1-score:\", rouge_scores[\"rouge-2\"][\"f\"])\n",
    "# print(\"ROUGE-L F1-score:\", rouge_scores[\"rouge-l\"][\"f\"])\n",
    "\n",
    "# Calculate ROUGE scores for each reference sentence\n",
    "rouge_scores = []\n",
    "for ref_sentence in reference_sentences:\n",
    "    scores = rouge.get_scores(gpt2_output, ref_sentence)\n",
    "    rouge_scores.append(scores[0])\n",
    "\n",
    "# Find the highest ROUGE scores\n",
    "highest_rouge_1 = max(rouge_scores, key=lambda x: x['rouge-1']['f'])\n",
    "highest_rouge_2 = max(rouge_scores, key=lambda x: x['rouge-2']['f'])\n",
    "highest_rouge_5 = max(rouge_scores, key=lambda x: x['rouge-5']['f'])\n",
    "highest_rouge_l = max(rouge_scores, key=lambda x: x['rouge-l']['f'])\n",
    "\n",
    "# Print the highest ROUGE scores\n",
    "print(\"Highest ROUGE-1 score:\", highest_rouge_1['rouge-1']['f'])\n",
    "print(\"Highest ROUGE-1 score:\", highest_rouge_1['rouge-1']['p'])\n",
    "print(\"Highest ROUGE-1 score:\", highest_rouge_1['rouge-1']['r'])\n",
    "print(\"Highest ROUGE-2 score:\", highest_rouge_2['rouge-2']['f'])\n",
    "print(\"Highest ROUGE-2 score:\", highest_rouge_2['rouge-2']['p'])\n",
    "print(\"Highest ROUGE-2 score:\", highest_rouge_2['rouge-2']['r'])\n",
    "print(\"Highest ROUGE-5 score:\", highest_rouge_2['rouge-5']['f'])\n",
    "print(\"Highest ROUGE-5 score:\", highest_rouge_2['rouge-5']['p'])\n",
    "print(\"Highest ROUGE-5 score:\", highest_rouge_2['rouge-5']['r'])\n",
    "print(\"Highest ROUGE-L score:\", highest_rouge_l['rouge-l']['f'])\n",
    "print(\"Highest ROUGE-L score:\", highest_rouge_l['rouge-l']['p'])\n",
    "print(\"Highest ROUGE-L score:\", highest_rouge_l['rouge-l']['r'])\n",
    "\n",
    "# # Calculate ROUGE scores for each reference sentence\n",
    "# rouge_scores = []\n",
    "# for ref_sentence in reference_sentences:\n",
    "#     scores = rouge.get_scores(gpt2_output, ref_sentence)\n",
    "#     rouge_scores.append(scores[0])\n",
    "\n",
    "# # Print ROUGE scores\n",
    "# for i, ref_sentence in enumerate(reference_sentences):\n",
    "#     print(\"ROUGE scores for reference sentence\", i + 1)\n",
    "#     print(\"ROUGE-1:\", rouge_scores[i]['rouge-1']['f'])\n",
    "#     print(\"ROUGE-2:\", rouge_scores[i]['rouge-2']['f'])\n",
    "#     print(\"ROUGE-L:\", rouge_scores[i]['rouge-l']['f'])\n",
    "#     print()"
   ]
  },
  {
   "cell_type": "code",
   "execution_count": 35,
   "metadata": {},
   "outputs": [
    {
     "ename": "NameError",
     "evalue": "name 'scorer' is not defined",
     "output_type": "error",
     "traceback": [
      "\u001b[1;31m---------------------------------------------------------------------------\u001b[0m",
      "\u001b[1;31mNameError\u001b[0m                                 Traceback (most recent call last)",
      "\u001b[1;32md:\\Text generation using GPT-2 (new dataset)\\index.ipynb Cell 28\u001b[0m line \u001b[0;36m5\n\u001b[0;32m      <a href='vscode-notebook-cell:/d%3A/Text%20generation%20using%20GPT-2%20%28new%20dataset%29/index.ipynb#X36sZmlsZQ%3D%3D?line=2'>3</a>\u001b[0m candidate_summary \u001b[39m=\u001b[39m \u001b[39m\"\u001b[39m\u001b[39mthe cat was found under the bed\u001b[39m\u001b[39m\"\u001b[39m\n\u001b[0;32m      <a href='vscode-notebook-cell:/d%3A/Text%20generation%20using%20GPT-2%20%28new%20dataset%29/index.ipynb#X36sZmlsZQ%3D%3D?line=3'>4</a>\u001b[0m reference_summary \u001b[39m=\u001b[39m \u001b[39m\"\u001b[39m\u001b[39mthe cat was under the bed\u001b[39m\u001b[39m\"\u001b[39m\n\u001b[1;32m----> <a href='vscode-notebook-cell:/d%3A/Text%20generation%20using%20GPT-2%20%28new%20dataset%29/index.ipynb#X36sZmlsZQ%3D%3D?line=4'>5</a>\u001b[0m scores \u001b[39m=\u001b[39m scorer\u001b[39m.\u001b[39mscore(reference_summary, candidate_summary)\n\u001b[0;32m      <a href='vscode-notebook-cell:/d%3A/Text%20generation%20using%20GPT-2%20%28new%20dataset%29/index.ipynb#X36sZmlsZQ%3D%3D?line=5'>6</a>\u001b[0m \u001b[39mfor\u001b[39;00m key \u001b[39min\u001b[39;00m scores:\n\u001b[0;32m      <a href='vscode-notebook-cell:/d%3A/Text%20generation%20using%20GPT-2%20%28new%20dataset%29/index.ipynb#X36sZmlsZQ%3D%3D?line=6'>7</a>\u001b[0m     \u001b[39mprint\u001b[39m(\u001b[39mf\u001b[39m\u001b[39m'\u001b[39m\u001b[39m{\u001b[39;00mkey\u001b[39m}\u001b[39;00m\u001b[39m: \u001b[39m\u001b[39m{\u001b[39;00mscores[key]\u001b[39m}\u001b[39;00m\u001b[39m'\u001b[39m)\n",
      "\u001b[1;31mNameError\u001b[0m: name 'scorer' is not defined"
     ]
    }
   ],
   "source": [
    "from rouge_score import rouge_scorer\n",
    "\n",
    "candidate_summary = \"the cat was found under the bed\"\n",
    "reference_summary = \"the cat was under the bed\"\n",
    "scores = scorer.score(reference_summary, candidate_summary)\n",
    "for key in scores:\n",
    "    print(f'{key}: {scores[key]}')"
   ]
  },
  {
   "cell_type": "code",
   "execution_count": 31,
   "metadata": {},
   "outputs": [
    {
     "name": "stdout",
     "output_type": "stream",
     "text": [
      "Requirement already satisfied: rouge-score in c:\\users\\asus\\anaconda3\\envs\\caret_testing\\lib\\site-packages (0.1.2)\n",
      "Requirement already satisfied: absl-py in c:\\users\\asus\\anaconda3\\envs\\caret_testing\\lib\\site-packages (from rouge-score) (2.0.0)\n",
      "Requirement already satisfied: nltk in c:\\users\\asus\\anaconda3\\envs\\caret_testing\\lib\\site-packages (from rouge-score) (3.8.1)\n",
      "Requirement already satisfied: numpy in c:\\users\\asus\\anaconda3\\envs\\caret_testing\\lib\\site-packages (from rouge-score) (1.23.5)\n",
      "Requirement already satisfied: six>=1.14.0 in c:\\users\\asus\\anaconda3\\envs\\caret_testing\\lib\\site-packages (from rouge-score) (1.16.0)\n",
      "Requirement already satisfied: click in c:\\users\\asus\\anaconda3\\envs\\caret_testing\\lib\\site-packages (from nltk->rouge-score) (8.1.7)\n",
      "Requirement already satisfied: joblib in c:\\users\\asus\\anaconda3\\envs\\caret_testing\\lib\\site-packages (from nltk->rouge-score) (1.3.2)\n",
      "Requirement already satisfied: regex>=2021.8.3 in c:\\users\\asus\\anaconda3\\envs\\caret_testing\\lib\\site-packages (from nltk->rouge-score) (2023.10.3)\n",
      "Requirement already satisfied: tqdm in c:\\users\\asus\\anaconda3\\envs\\caret_testing\\lib\\site-packages (from nltk->rouge-score) (4.66.1)\n",
      "Requirement already satisfied: colorama in c:\\users\\asus\\anaconda3\\envs\\caret_testing\\lib\\site-packages (from click->nltk->rouge-score) (0.4.6)\n"
     ]
    }
   ],
   "source": [
    "!pip install rouge-score"
   ]
  }
 ],
 "metadata": {
  "kernelspec": {
   "display_name": "Transformers-310",
   "language": "python",
   "name": "python3"
  },
  "language_info": {
   "codemirror_mode": {
    "name": "ipython",
    "version": 3
   },
   "file_extension": ".py",
   "mimetype": "text/x-python",
   "name": "python",
   "nbconvert_exporter": "python",
   "pygments_lexer": "ipython3",
   "version": "3.9.18"
  },
  "orig_nbformat": 4
 },
 "nbformat": 4,
 "nbformat_minor": 2
}
